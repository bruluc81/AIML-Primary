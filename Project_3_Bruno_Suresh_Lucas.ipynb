{
  "nbformat": 4,
  "nbformat_minor": 0,
  "metadata": {
    "colab": {
      "name": "Project 3 - Bruno Suresh Lucas.ipynb",
      "provenance": [],
      "collapsed_sections": [],
      "include_colab_link": true
    },
    "kernelspec": {
      "name": "python3",
      "display_name": "Python 3"
    }
  },
  "cells": [
    {
      "cell_type": "markdown",
      "metadata": {
        "id": "view-in-github",
        "colab_type": "text"
      },
      "source": [
        "<a href=\"https://colab.research.google.com/github/bruluc81/AIML-Primary/blob/master/Project_3_Bruno_Suresh_Lucas.ipynb\" target=\"_parent\"><img src=\"https://colab.research.google.com/assets/colab-badge.svg\" alt=\"Open In Colab\"/></a>"
      ]
    },
    {
      "cell_type": "markdown",
      "metadata": {
        "id": "dw2kDGZtqCmh",
        "colab_type": "text"
      },
      "source": [
        "## Project Summary\n",
        "The data is related with direct marketing campaigns of a\n",
        "Portuguese banking institution. The marketing campaigns\n",
        "were based on phone calls. Often, more than one contact to\n",
        "the same client was required, in order to access if the product\n",
        "(bank term deposit) would be ('yes') or not ('no') subscribed."
      ]
    },
    {
      "cell_type": "markdown",
      "metadata": {
        "id": "iINmdf8Xp7BB",
        "colab_type": "text"
      },
      "source": [
        "## Visual Data Analysis using Excel\n",
        "1. 45211 rows and 17 columns with the last column as Target Variable. \n",
        "2. Age: Age ranges from 18 to 95 years.  There are no null values\n",
        "3. Job: 12 Job descriptions given including unknown (288 entries).\n",
        "4. Marital: 3 Marital status with Divorced which includes widowed.\n",
        "5. Education: 4 education categories with1857 categorized as unknown\n",
        "6. Default: Yes/No Type. 815 Credit defaulters with no null values\n",
        "7. Balance: Balance ranges from approx -8K to +100K \n",
        "8. Housing and Loan: Yes/No Type. Around 55% of the respondents have taken housing loan and 15% have taken personal loan.\n",
        "9. Day / Month / Duration: Contact details are either Cellular or Telephone. Around 13K records are marked as unknown.  Date and month are added as seperate columns.\n",
        "10.  Duration: Duration of the call ranges from 0 secs to 1 hour.\n",
        "11.  Campaign: Number of contacts performed ranges from 1 thru 63 contacts per respondent.\n",
        "12.  pDays: Values ranges from -1 thru 850.  There are 12K records of -1 which seems to be incorrect as this is related to number of days that have passed by.  Need to check this.\n",
        "13. Previous:  Prior contacts for other campaigns ranges from 0 to 275 with 275 as a single entry.\n",
        "14. POutcome: 82% of previous outcome is unknown.\n",
        "15. Target:  Yes/No Type. Around 73% of the respondednt did not take the term deposit."
      ]
    },
    {
      "cell_type": "markdown",
      "metadata": {
        "id": "DMusTYMzF9xs",
        "colab_type": "text"
      },
      "source": [
        "## 1. Import the necessary libraries"
      ]
    },
    {
      "cell_type": "code",
      "metadata": {
        "id": "cbp87sRy3Bco",
        "colab_type": "code",
        "colab": {}
      },
      "source": [
        "# Display Plots or Graphs as required immediately without show() function. \n",
        "%matplotlib inline \n",
        "import numpy as np\n",
        "import pandas as pd\n",
        "import matplotlib.pyplot as plt\n",
        "\n",
        "from sklearn.linear_model import LogisticRegression # Import Logistics Regression machine learning library\n",
        "from sklearn.utils import resample # for resampling in case of down / up sampling requirements\n",
        "from sklearn.model_selection import train_test_split # Used to split the data into Training and Testing split\n",
        "from sklearn.neighbors import KNeighborsClassifier #Importing KNN Classifiers \n",
        "from sklearn import metrics # calculate accuracy measures and confusion matrix\n",
        "from sklearn.naive_bayes import GaussianNB # Naive Bayes package from the Library\n",
        "from sklearn.ensemble import RandomForestClassifier # Random Forest Package\n",
        "from sklearn.tree import DecisionTreeClassifier # Decision Tree Package\n",
        "from sklearn.svm import SVC # Support Vector Classifier Package\n",
        "from sklearn.metrics import roc_curve, auc # to measure the optimal method\n",
        "from sklearn.metrics import roc_auc_score # to get the ROC AUC score\n",
        "from sklearn import preprocessing\n",
        "import seaborn as sns"
      ],
      "execution_count": 0,
      "outputs": []
    },
    {
      "cell_type": "markdown",
      "metadata": {
        "id": "5rnqaOzWGKpl",
        "colab_type": "text"
      },
      "source": [
        "## 2. Load the Dataset from the CSV file and create a DataFrame"
      ]
    },
    {
      "cell_type": "code",
      "metadata": {
        "id": "XW4dPFnLzCvk",
        "colab_type": "code",
        "colab": {}
      },
      "source": [
        "URL = 'https://raw.githubusercontent.com/bruluc81/AIML-Primary/master/bank-full.csv' \n",
        "df_loan = pd.read_csv('https://raw.githubusercontent.com/bruluc81/AIML-Primary/master/bank-full.csv') #Importing CSV file onto a DataFrame"
      ],
      "execution_count": 0,
      "outputs": []
    },
    {
      "cell_type": "markdown",
      "metadata": {
        "id": "Ivo_dQJxVkg9",
        "colab_type": "text"
      },
      "source": [
        "## 3. Perform basic EDA which should include the following and print out your insights at every step."
      ]
    },
    {
      "cell_type": "markdown",
      "metadata": {
        "id": "3bzEDrWRVRTn",
        "colab_type": "text"
      },
      "source": [
        "### 3a / 3b / 3c. Shape of the data / datatype / Missing values"
      ]
    },
    {
      "cell_type": "code",
      "metadata": {
        "id": "05lpR8m7VE-y",
        "colab_type": "code",
        "outputId": "b8612b72-df08-43ef-d97d-650f6cbe77b2",
        "colab": {
          "base_uri": "https://localhost:8080/",
          "height": 429
        }
      },
      "source": [
        "df_loan.info()                                                                    #Display the Datatypes of the variables and confirm if there are null values."
      ],
      "execution_count": 109,
      "outputs": [
        {
          "output_type": "stream",
          "text": [
            "<class 'pandas.core.frame.DataFrame'>\n",
            "RangeIndex: 45211 entries, 0 to 45210\n",
            "Data columns (total 17 columns):\n",
            "age          45211 non-null int64\n",
            "job          45211 non-null object\n",
            "marital      45211 non-null object\n",
            "education    45211 non-null object\n",
            "default      45211 non-null object\n",
            "balance      45211 non-null int64\n",
            "housing      45211 non-null object\n",
            "loan         45211 non-null object\n",
            "contact      45211 non-null object\n",
            "day          45211 non-null int64\n",
            "month        45211 non-null object\n",
            "duration     45211 non-null int64\n",
            "campaign     45211 non-null int64\n",
            "pdays        45211 non-null int64\n",
            "previous     45211 non-null int64\n",
            "poutcome     45211 non-null object\n",
            "Target       45211 non-null object\n",
            "dtypes: int64(7), object(10)\n",
            "memory usage: 5.9+ MB\n"
          ],
          "name": "stdout"
        }
      ]
    },
    {
      "cell_type": "markdown",
      "metadata": {
        "id": "o-BPUih0GVbQ",
        "colab_type": "text"
      },
      "source": [
        "Observation:  \n",
        "3a: Shape of the data - There is a total of 45211 records with 17 columns.      3b: INT (7 Variables) and OBJECT (10 variables) are the two data types. \n",
        "    3c: There are no null values in the dataset.  Therefore no missing values."
      ]
    },
    {
      "cell_type": "code",
      "metadata": {
        "id": "XjRWsaOG3d4a",
        "colab_type": "code",
        "outputId": "4e299ca4-924c-417e-9632-b5ac9fe96b9f",
        "colab": {
          "base_uri": "https://localhost:8080/",
          "height": 226
        }
      },
      "source": [
        "df_loan.head()                                                                  # Display the first 5 rows to check the data      "
      ],
      "execution_count": 110,
      "outputs": [
        {
          "output_type": "execute_result",
          "data": {
            "text/html": [
              "<div>\n",
              "<style scoped>\n",
              "    .dataframe tbody tr th:only-of-type {\n",
              "        vertical-align: middle;\n",
              "    }\n",
              "\n",
              "    .dataframe tbody tr th {\n",
              "        vertical-align: top;\n",
              "    }\n",
              "\n",
              "    .dataframe thead th {\n",
              "        text-align: right;\n",
              "    }\n",
              "</style>\n",
              "<table border=\"1\" class=\"dataframe\">\n",
              "  <thead>\n",
              "    <tr style=\"text-align: right;\">\n",
              "      <th></th>\n",
              "      <th>age</th>\n",
              "      <th>job</th>\n",
              "      <th>marital</th>\n",
              "      <th>education</th>\n",
              "      <th>default</th>\n",
              "      <th>balance</th>\n",
              "      <th>housing</th>\n",
              "      <th>loan</th>\n",
              "      <th>contact</th>\n",
              "      <th>day</th>\n",
              "      <th>month</th>\n",
              "      <th>duration</th>\n",
              "      <th>campaign</th>\n",
              "      <th>pdays</th>\n",
              "      <th>previous</th>\n",
              "      <th>poutcome</th>\n",
              "      <th>Target</th>\n",
              "    </tr>\n",
              "  </thead>\n",
              "  <tbody>\n",
              "    <tr>\n",
              "      <th>0</th>\n",
              "      <td>58</td>\n",
              "      <td>management</td>\n",
              "      <td>married</td>\n",
              "      <td>tertiary</td>\n",
              "      <td>no</td>\n",
              "      <td>2143</td>\n",
              "      <td>yes</td>\n",
              "      <td>no</td>\n",
              "      <td>unknown</td>\n",
              "      <td>5</td>\n",
              "      <td>may</td>\n",
              "      <td>261</td>\n",
              "      <td>1</td>\n",
              "      <td>-1</td>\n",
              "      <td>0</td>\n",
              "      <td>unknown</td>\n",
              "      <td>no</td>\n",
              "    </tr>\n",
              "    <tr>\n",
              "      <th>1</th>\n",
              "      <td>44</td>\n",
              "      <td>technician</td>\n",
              "      <td>single</td>\n",
              "      <td>secondary</td>\n",
              "      <td>no</td>\n",
              "      <td>29</td>\n",
              "      <td>yes</td>\n",
              "      <td>no</td>\n",
              "      <td>unknown</td>\n",
              "      <td>5</td>\n",
              "      <td>may</td>\n",
              "      <td>151</td>\n",
              "      <td>1</td>\n",
              "      <td>-1</td>\n",
              "      <td>0</td>\n",
              "      <td>unknown</td>\n",
              "      <td>no</td>\n",
              "    </tr>\n",
              "    <tr>\n",
              "      <th>2</th>\n",
              "      <td>33</td>\n",
              "      <td>entrepreneur</td>\n",
              "      <td>married</td>\n",
              "      <td>secondary</td>\n",
              "      <td>no</td>\n",
              "      <td>2</td>\n",
              "      <td>yes</td>\n",
              "      <td>yes</td>\n",
              "      <td>unknown</td>\n",
              "      <td>5</td>\n",
              "      <td>may</td>\n",
              "      <td>76</td>\n",
              "      <td>1</td>\n",
              "      <td>-1</td>\n",
              "      <td>0</td>\n",
              "      <td>unknown</td>\n",
              "      <td>no</td>\n",
              "    </tr>\n",
              "    <tr>\n",
              "      <th>3</th>\n",
              "      <td>47</td>\n",
              "      <td>blue-collar</td>\n",
              "      <td>married</td>\n",
              "      <td>unknown</td>\n",
              "      <td>no</td>\n",
              "      <td>1506</td>\n",
              "      <td>yes</td>\n",
              "      <td>no</td>\n",
              "      <td>unknown</td>\n",
              "      <td>5</td>\n",
              "      <td>may</td>\n",
              "      <td>92</td>\n",
              "      <td>1</td>\n",
              "      <td>-1</td>\n",
              "      <td>0</td>\n",
              "      <td>unknown</td>\n",
              "      <td>no</td>\n",
              "    </tr>\n",
              "    <tr>\n",
              "      <th>4</th>\n",
              "      <td>33</td>\n",
              "      <td>unknown</td>\n",
              "      <td>single</td>\n",
              "      <td>unknown</td>\n",
              "      <td>no</td>\n",
              "      <td>1</td>\n",
              "      <td>no</td>\n",
              "      <td>no</td>\n",
              "      <td>unknown</td>\n",
              "      <td>5</td>\n",
              "      <td>may</td>\n",
              "      <td>198</td>\n",
              "      <td>1</td>\n",
              "      <td>-1</td>\n",
              "      <td>0</td>\n",
              "      <td>unknown</td>\n",
              "      <td>no</td>\n",
              "    </tr>\n",
              "  </tbody>\n",
              "</table>\n",
              "</div>"
            ],
            "text/plain": [
              "   age           job  marital  education  ... pdays  previous poutcome Target\n",
              "0   58    management  married   tertiary  ...    -1         0  unknown     no\n",
              "1   44    technician   single  secondary  ...    -1         0  unknown     no\n",
              "2   33  entrepreneur  married  secondary  ...    -1         0  unknown     no\n",
              "3   47   blue-collar  married    unknown  ...    -1         0  unknown     no\n",
              "4   33       unknown   single    unknown  ...    -1         0  unknown     no\n",
              "\n",
              "[5 rows x 17 columns]"
            ]
          },
          "metadata": {
            "tags": []
          },
          "execution_count": 110
        }
      ]
    },
    {
      "cell_type": "markdown",
      "metadata": {
        "id": "bsNYOpqiariA",
        "colab_type": "text"
      },
      "source": [
        "### 3d. 5 point summary of numerical attributes"
      ]
    },
    {
      "cell_type": "code",
      "metadata": {
        "id": "9_WDFHr1c5L1",
        "colab_type": "code",
        "outputId": "1c17f645-aebc-4fb1-c7f7-46b39cd6a6de",
        "colab": {
          "base_uri": "https://localhost:8080/",
          "height": 206
        }
      },
      "source": [
        "from numpy import percentile\n",
        "#Prepare 5 Point Summary for Age / Balance / Duration / Campaign / Previous Campaign\n",
        "age = df_loan['age']\n",
        "balance = df_loan['balance']\n",
        "duration = df_loan['duration']\n",
        "camp= df_loan['campaign']\n",
        "pcamp=df_loan['previous']\n",
        "\n",
        "# calculate quartiles\n",
        "age_quart = percentile(age, [25, 50, 75])\n",
        "balance_quart = percentile(balance, [25, 50, 75])\n",
        "duration_quart = percentile(duration, [25, 50, 75])\n",
        "camp_quart = percentile(camp, [25, 50, 75])\n",
        "pcamp_quart = percentile(pcamp, [25, 50, 75])\n",
        "\n",
        "# calculate min/max\n",
        "age_min, age_max = age.min(), age.max()\n",
        "balance_min, balance_max = balance.min(), balance.max()\n",
        "duration_min, duration_max = duration.min(), duration.max()\n",
        "camp_min, camp_max = camp.min(), camp.max()\n",
        "pcamp_min, pcamp_max = pcamp.min(), pcamp.max()\n",
        "\n",
        "# create a DataFrame of the values\n",
        "FivePt = pd.DataFrame({'Attri':['age','balance','duration','campaign','prev campaign'],\n",
        "                       'Min':[age_min,balance_min,duration_min,camp_min,pcamp_min],\n",
        "                       'Max':[age_max,balance_max,duration_max,camp_max,pcamp_max],\n",
        "                      'Q1':[age_quart[0],balance_quart[0],duration_quart[0],camp_quart[0],pcamp_quart[0]],\n",
        "                      'Median':[age_quart[1],balance_quart[1],duration_quart[1],camp_quart[1],pcamp_quart[1]],\n",
        "                      'Q3':[age_quart[2],balance_quart[2],duration_quart[2],camp_quart[2],pcamp_quart[2]]})\n",
        "FivePt.set_index('Attri',inplace=True)\n",
        "FivePt = FivePt.transpose()\n",
        "FivePt.head()\n",
        "\n"
      ],
      "execution_count": 111,
      "outputs": [
        {
          "output_type": "execute_result",
          "data": {
            "text/html": [
              "<div>\n",
              "<style scoped>\n",
              "    .dataframe tbody tr th:only-of-type {\n",
              "        vertical-align: middle;\n",
              "    }\n",
              "\n",
              "    .dataframe tbody tr th {\n",
              "        vertical-align: top;\n",
              "    }\n",
              "\n",
              "    .dataframe thead th {\n",
              "        text-align: right;\n",
              "    }\n",
              "</style>\n",
              "<table border=\"1\" class=\"dataframe\">\n",
              "  <thead>\n",
              "    <tr style=\"text-align: right;\">\n",
              "      <th>Attri</th>\n",
              "      <th>age</th>\n",
              "      <th>balance</th>\n",
              "      <th>duration</th>\n",
              "      <th>campaign</th>\n",
              "      <th>prev campaign</th>\n",
              "    </tr>\n",
              "  </thead>\n",
              "  <tbody>\n",
              "    <tr>\n",
              "      <th>Min</th>\n",
              "      <td>18.0</td>\n",
              "      <td>-8019.0</td>\n",
              "      <td>0.0</td>\n",
              "      <td>1.0</td>\n",
              "      <td>0.0</td>\n",
              "    </tr>\n",
              "    <tr>\n",
              "      <th>Max</th>\n",
              "      <td>95.0</td>\n",
              "      <td>102127.0</td>\n",
              "      <td>4918.0</td>\n",
              "      <td>63.0</td>\n",
              "      <td>275.0</td>\n",
              "    </tr>\n",
              "    <tr>\n",
              "      <th>Q1</th>\n",
              "      <td>33.0</td>\n",
              "      <td>72.0</td>\n",
              "      <td>103.0</td>\n",
              "      <td>1.0</td>\n",
              "      <td>0.0</td>\n",
              "    </tr>\n",
              "    <tr>\n",
              "      <th>Median</th>\n",
              "      <td>39.0</td>\n",
              "      <td>448.0</td>\n",
              "      <td>180.0</td>\n",
              "      <td>2.0</td>\n",
              "      <td>0.0</td>\n",
              "    </tr>\n",
              "    <tr>\n",
              "      <th>Q3</th>\n",
              "      <td>48.0</td>\n",
              "      <td>1428.0</td>\n",
              "      <td>319.0</td>\n",
              "      <td>3.0</td>\n",
              "      <td>0.0</td>\n",
              "    </tr>\n",
              "  </tbody>\n",
              "</table>\n",
              "</div>"
            ],
            "text/plain": [
              "Attri    age   balance  duration  campaign  prev campaign\n",
              "Min     18.0   -8019.0       0.0       1.0            0.0\n",
              "Max     95.0  102127.0    4918.0      63.0          275.0\n",
              "Q1      33.0      72.0     103.0       1.0            0.0\n",
              "Median  39.0     448.0     180.0       2.0            0.0\n",
              "Q3      48.0    1428.0     319.0       3.0            0.0"
            ]
          },
          "metadata": {
            "tags": []
          },
          "execution_count": 111
        }
      ]
    },
    {
      "cell_type": "markdown",
      "metadata": {
        "id": "TR1LuAnanD5B",
        "colab_type": "text"
      },
      "source": [
        "Observation: The data seems to be not normal and we can see a high degree of skewness.  There is a high degree of skewness in the indepenent variables. This is primarily due to outliers which we will discuss below."
      ]
    },
    {
      "cell_type": "markdown",
      "metadata": {
        "id": "7XvcksexzS-Q",
        "colab_type": "text"
      },
      "source": [
        "### 3e. Checking the presence of outliers"
      ]
    },
    {
      "cell_type": "code",
      "metadata": {
        "id": "Pg0gEbbFaqJW",
        "colab_type": "code",
        "outputId": "8f9b8bf2-8b8a-49d0-def7-10fcb6e011e4",
        "colab": {
          "base_uri": "https://localhost:8080/",
          "height": 206
        }
      },
      "source": [
        "# Identify the first and Third quartile of Age and determine IQR to understand the ouliers.\n",
        "a1,a3 = np.percentile(age, [25, 75])\n",
        "age_iqr = a3-a1\n",
        "age_iqrl = a1 -(1.5 * (a3-a1))\n",
        "age_iqrb = a3 +(1.5 * (a3-a1))\n",
        "\n",
        "# Identify the first and Third quartile of Credit Balance and determine IQR to understand the ouliers.\n",
        "b1,b3 = np.percentile(balance, [25, 75])\n",
        "balance_iqr = b3-b1\n",
        "balance_iqrl = b1 -(1.5 * (b3-b1))\n",
        "balance_iqrb = b3 +(1.5 * (b3-b1))\n",
        "\n",
        "# Identify the first and Third quartile of Call Duration and determine IQR to understand the ouliers.\n",
        "c1,c3 = np.percentile(duration, [25, 75])\n",
        "duration_iqr = c3-c1\n",
        "duration_iqrl = c1 -(1.5 * (c3-c1))\n",
        "duration_iqrb = c3 +(1.5 * (c3-c1))\n",
        "\n",
        "# Identify the first and Third quartile of Call Duration and determine IQR to understand the ouliers.\n",
        "d1,d3 = np.percentile(camp, [25, 75])\n",
        "camp_iqr = d3-d1\n",
        "camp_iqrl = d1 -(1.5 * (d3-d1))\n",
        "camp_iqrb = d3 +(1.5 * (d3-d1))\n",
        "\n",
        "# Identify the first and Third quartile of Call Duration and determine IQR to understand the ouliers.\n",
        "e1,e3 = np.percentile(pcamp, [25, 75])\n",
        "pcamp_iqr = e3-e1\n",
        "pcamp_iqrl = e1 -(1.5 * (e3-e1))\n",
        "pcamp_iqrb = e3 +(1.5 * (e3-e1))\n",
        "\n",
        "\n",
        "age_out = (df_loan[df_loan['age'].le(age_quart[0])], df_loan[df_loan['age'].ge(age_quart[2])])\n",
        "balance_out = (df_loan[df_loan['balance'].le(balance_quart[0])], df_loan[df_loan['balance'].ge(balance_quart[2])])\n",
        "duration_out = (df_loan[df_loan['duration'].le(duration_quart[0])], df_loan[df_loan['duration'].ge(duration_quart[2])])\n",
        "camp_out = (df_loan[df_loan['campaign'].le(camp_quart[0])], df_loan[df_loan['campaign'].ge(camp_quart[2])])\n",
        "pcamp_out = (df_loan[df_loan['previous'].le(pcamp_quart[0])], df_loan[df_loan['previous'].ge(pcamp_quart[2])])\n",
        "\n",
        "#Prepare a Dataframe with the results to document the outliers\n",
        "Outliers = pd.DataFrame({'Attri':['age','balance','duration','campaign','prev campaign'],\n",
        "                       'Q1':[a1,b1,c1,d1,e1],\n",
        "                       'Q3':[a3,b3,c3,d1,e1],\n",
        "                      'IQR':[age_iqr,balance_iqr,duration_iqr,camp_iqr,pcamp_iqr],\n",
        "                      'Lowerbound':[age_iqrl,balance_iqrl,duration_iqrl,camp_iqrl,pcamp_iqrl],\n",
        "                      'Upperbound':[age_iqrb,balance_iqrb,duration_iqrb,camp_iqrb,pcamp_iqrb],\n",
        "                        'Count of Outliers':[len(age_out[0]),len(balance_out[0]),len(duration_out[0]),len(camp_out[0]),len(pcamp_out[0])]})\n",
        "Outliers.set_index('Attri',inplace=True)\n",
        "Outliers = Outliers.transpose()\n",
        "Outliers.head()"
      ],
      "execution_count": 114,
      "outputs": [
        {
          "output_type": "execute_result",
          "data": {
            "text/html": [
              "<div>\n",
              "<style scoped>\n",
              "    .dataframe tbody tr th:only-of-type {\n",
              "        vertical-align: middle;\n",
              "    }\n",
              "\n",
              "    .dataframe tbody tr th {\n",
              "        vertical-align: top;\n",
              "    }\n",
              "\n",
              "    .dataframe thead th {\n",
              "        text-align: right;\n",
              "    }\n",
              "</style>\n",
              "<table border=\"1\" class=\"dataframe\">\n",
              "  <thead>\n",
              "    <tr style=\"text-align: right;\">\n",
              "      <th>Attri</th>\n",
              "      <th>age</th>\n",
              "      <th>balance</th>\n",
              "      <th>duration</th>\n",
              "      <th>campaign</th>\n",
              "      <th>prev campaign</th>\n",
              "    </tr>\n",
              "  </thead>\n",
              "  <tbody>\n",
              "    <tr>\n",
              "      <th>Q1</th>\n",
              "      <td>33.0</td>\n",
              "      <td>72.0</td>\n",
              "      <td>103.0</td>\n",
              "      <td>1.0</td>\n",
              "      <td>0.0</td>\n",
              "    </tr>\n",
              "    <tr>\n",
              "      <th>Q3</th>\n",
              "      <td>48.0</td>\n",
              "      <td>1428.0</td>\n",
              "      <td>319.0</td>\n",
              "      <td>1.0</td>\n",
              "      <td>0.0</td>\n",
              "    </tr>\n",
              "    <tr>\n",
              "      <th>IQR</th>\n",
              "      <td>15.0</td>\n",
              "      <td>1356.0</td>\n",
              "      <td>216.0</td>\n",
              "      <td>2.0</td>\n",
              "      <td>0.0</td>\n",
              "    </tr>\n",
              "    <tr>\n",
              "      <th>Lowerbound</th>\n",
              "      <td>10.5</td>\n",
              "      <td>-1962.0</td>\n",
              "      <td>-221.0</td>\n",
              "      <td>-2.0</td>\n",
              "      <td>0.0</td>\n",
              "    </tr>\n",
              "    <tr>\n",
              "      <th>Upperbound</th>\n",
              "      <td>70.5</td>\n",
              "      <td>3462.0</td>\n",
              "      <td>643.0</td>\n",
              "      <td>6.0</td>\n",
              "      <td>0.0</td>\n",
              "    </tr>\n",
              "  </tbody>\n",
              "</table>\n",
              "</div>"
            ],
            "text/plain": [
              "Attri        age  balance  duration  campaign  prev campaign\n",
              "Q1          33.0     72.0     103.0       1.0            0.0\n",
              "Q3          48.0   1428.0     319.0       1.0            0.0\n",
              "IQR         15.0   1356.0     216.0       2.0            0.0\n",
              "Lowerbound  10.5  -1962.0    -221.0      -2.0            0.0\n",
              "Upperbound  70.5   3462.0     643.0       6.0            0.0"
            ]
          },
          "metadata": {
            "tags": []
          },
          "execution_count": 114
        }
      ]
    },
    {
      "cell_type": "markdown",
      "metadata": {
        "id": "DYeHyQtut3lZ",
        "colab_type": "text"
      },
      "source": [
        "The Outlier analysis seems to show that the out of the total records in the dataset on an average atleast 30% of the data is outside the Q1 and Q3. Normalizing the data is required due to high degree of skewness."
      ]
    },
    {
      "cell_type": "markdown",
      "metadata": {
        "id": "cT_6qpUSzhU0",
        "colab_type": "text"
      },
      "source": [
        "## 4. Prepare the data to train a model – check if data types are appropriate, get rid of the missing values etc"
      ]
    },
    {
      "cell_type": "code",
      "metadata": {
        "id": "LhjtPjBaFs_b",
        "colab_type": "code",
        "outputId": "831bbcce-0e1d-4e28-91e4-5d3eca704a19",
        "colab": {
          "base_uri": "https://localhost:8080/",
          "height": 269
        }
      },
      "source": [
        "df_loan.describe().T # Describe function just displays the continuos variables.\n"
      ],
      "execution_count": 115,
      "outputs": [
        {
          "output_type": "execute_result",
          "data": {
            "text/html": [
              "<div>\n",
              "<style scoped>\n",
              "    .dataframe tbody tr th:only-of-type {\n",
              "        vertical-align: middle;\n",
              "    }\n",
              "\n",
              "    .dataframe tbody tr th {\n",
              "        vertical-align: top;\n",
              "    }\n",
              "\n",
              "    .dataframe thead th {\n",
              "        text-align: right;\n",
              "    }\n",
              "</style>\n",
              "<table border=\"1\" class=\"dataframe\">\n",
              "  <thead>\n",
              "    <tr style=\"text-align: right;\">\n",
              "      <th></th>\n",
              "      <th>count</th>\n",
              "      <th>mean</th>\n",
              "      <th>std</th>\n",
              "      <th>min</th>\n",
              "      <th>25%</th>\n",
              "      <th>50%</th>\n",
              "      <th>75%</th>\n",
              "      <th>max</th>\n",
              "    </tr>\n",
              "  </thead>\n",
              "  <tbody>\n",
              "    <tr>\n",
              "      <th>age</th>\n",
              "      <td>45211.0</td>\n",
              "      <td>40.936210</td>\n",
              "      <td>10.618762</td>\n",
              "      <td>18.0</td>\n",
              "      <td>33.0</td>\n",
              "      <td>39.0</td>\n",
              "      <td>48.0</td>\n",
              "      <td>95.0</td>\n",
              "    </tr>\n",
              "    <tr>\n",
              "      <th>balance</th>\n",
              "      <td>45211.0</td>\n",
              "      <td>1362.272058</td>\n",
              "      <td>3044.765829</td>\n",
              "      <td>-8019.0</td>\n",
              "      <td>72.0</td>\n",
              "      <td>448.0</td>\n",
              "      <td>1428.0</td>\n",
              "      <td>102127.0</td>\n",
              "    </tr>\n",
              "    <tr>\n",
              "      <th>day</th>\n",
              "      <td>45211.0</td>\n",
              "      <td>15.806419</td>\n",
              "      <td>8.322476</td>\n",
              "      <td>1.0</td>\n",
              "      <td>8.0</td>\n",
              "      <td>16.0</td>\n",
              "      <td>21.0</td>\n",
              "      <td>31.0</td>\n",
              "    </tr>\n",
              "    <tr>\n",
              "      <th>duration</th>\n",
              "      <td>45211.0</td>\n",
              "      <td>258.163080</td>\n",
              "      <td>257.527812</td>\n",
              "      <td>0.0</td>\n",
              "      <td>103.0</td>\n",
              "      <td>180.0</td>\n",
              "      <td>319.0</td>\n",
              "      <td>4918.0</td>\n",
              "    </tr>\n",
              "    <tr>\n",
              "      <th>campaign</th>\n",
              "      <td>45211.0</td>\n",
              "      <td>2.763841</td>\n",
              "      <td>3.098021</td>\n",
              "      <td>1.0</td>\n",
              "      <td>1.0</td>\n",
              "      <td>2.0</td>\n",
              "      <td>3.0</td>\n",
              "      <td>63.0</td>\n",
              "    </tr>\n",
              "    <tr>\n",
              "      <th>pdays</th>\n",
              "      <td>45211.0</td>\n",
              "      <td>40.197828</td>\n",
              "      <td>100.128746</td>\n",
              "      <td>-1.0</td>\n",
              "      <td>-1.0</td>\n",
              "      <td>-1.0</td>\n",
              "      <td>-1.0</td>\n",
              "      <td>871.0</td>\n",
              "    </tr>\n",
              "    <tr>\n",
              "      <th>previous</th>\n",
              "      <td>45211.0</td>\n",
              "      <td>0.580323</td>\n",
              "      <td>2.303441</td>\n",
              "      <td>0.0</td>\n",
              "      <td>0.0</td>\n",
              "      <td>0.0</td>\n",
              "      <td>0.0</td>\n",
              "      <td>275.0</td>\n",
              "    </tr>\n",
              "  </tbody>\n",
              "</table>\n",
              "</div>"
            ],
            "text/plain": [
              "            count         mean          std  ...    50%     75%       max\n",
              "age       45211.0    40.936210    10.618762  ...   39.0    48.0      95.0\n",
              "balance   45211.0  1362.272058  3044.765829  ...  448.0  1428.0  102127.0\n",
              "day       45211.0    15.806419     8.322476  ...   16.0    21.0      31.0\n",
              "duration  45211.0   258.163080   257.527812  ...  180.0   319.0    4918.0\n",
              "campaign  45211.0     2.763841     3.098021  ...    2.0     3.0      63.0\n",
              "pdays     45211.0    40.197828   100.128746  ...   -1.0    -1.0     871.0\n",
              "previous  45211.0     0.580323     2.303441  ...    0.0     0.0     275.0\n",
              "\n",
              "[7 rows x 8 columns]"
            ]
          },
          "metadata": {
            "tags": []
          },
          "execution_count": 115
        }
      ]
    },
    {
      "cell_type": "code",
      "metadata": {
        "id": "t8gqIWF7HGyW",
        "colab_type": "code",
        "colab": {}
      },
      "source": [
        "def convert(df_loan):\n",
        "    # Convert the data before we can feed the data to train and test into any classification model. Helps in validation purpose. \n",
        "    df_loan.Target.replace(('yes', 'no'), (1, 0), inplace=True)\n",
        "    df_loan.default.replace(('yes','no'),(1,0),inplace=True)\n",
        "    df_loan.housing.replace(('yes','no'),(1,0),inplace=True)\n",
        "    df_loan.loan.replace(('yes','no'),(1,0),inplace=True)\n",
        "    df_loan.marital.replace(('married','single','divorced'),(1,2,3),inplace=True)\n",
        "    df_loan.month.replace(('jan','feb','mar','apr','may','jun','jul','aug','sep','oct','nov','dec'),(1,2,3,4,5,6,7,8,9,10,11,12),inplace=True)\n",
        "    df_loan.education.replace(('primary','secondary','tertiary','unknown'),(1,2,3,4),inplace=True)\n",
        "    df_loan.job.replace(('technician','services','retired','blue-collar','entrepreneur','admin.',\n",
        "                      'housemaid','student','self-employed','management',\n",
        "                      'unemployed','unknown'),(1,2,3,4,5,6,7,8,9,10,11,12),inplace=True )\n",
        "    return df_loan\n",
        "\n"
      ],
      "execution_count": 0,
      "outputs": []
    },
    {
      "cell_type": "markdown",
      "metadata": {
        "id": "wbYudlbpGdEC",
        "colab_type": "text"
      },
      "source": [
        "To help describe the variables and perform correlation between the independent variables a conversion to numberic values is required."
      ]
    },
    {
      "cell_type": "code",
      "metadata": {
        "id": "GkYWkVl_8ZNN",
        "colab_type": "code",
        "outputId": "1025eb42-406e-492b-acd9-e70ad7f219af",
        "colab": {
          "base_uri": "https://localhost:8080/",
          "height": 226
        }
      },
      "source": [
        "df_loan = convert(df_loan)# Call the custom method to format the data to make it ready for correlation analysis.\n",
        "df_loan.head()"
      ],
      "execution_count": 117,
      "outputs": [
        {
          "output_type": "execute_result",
          "data": {
            "text/html": [
              "<div>\n",
              "<style scoped>\n",
              "    .dataframe tbody tr th:only-of-type {\n",
              "        vertical-align: middle;\n",
              "    }\n",
              "\n",
              "    .dataframe tbody tr th {\n",
              "        vertical-align: top;\n",
              "    }\n",
              "\n",
              "    .dataframe thead th {\n",
              "        text-align: right;\n",
              "    }\n",
              "</style>\n",
              "<table border=\"1\" class=\"dataframe\">\n",
              "  <thead>\n",
              "    <tr style=\"text-align: right;\">\n",
              "      <th></th>\n",
              "      <th>age</th>\n",
              "      <th>job</th>\n",
              "      <th>marital</th>\n",
              "      <th>education</th>\n",
              "      <th>default</th>\n",
              "      <th>balance</th>\n",
              "      <th>housing</th>\n",
              "      <th>loan</th>\n",
              "      <th>contact</th>\n",
              "      <th>day</th>\n",
              "      <th>month</th>\n",
              "      <th>duration</th>\n",
              "      <th>campaign</th>\n",
              "      <th>pdays</th>\n",
              "      <th>previous</th>\n",
              "      <th>poutcome</th>\n",
              "      <th>Target</th>\n",
              "    </tr>\n",
              "  </thead>\n",
              "  <tbody>\n",
              "    <tr>\n",
              "      <th>0</th>\n",
              "      <td>58</td>\n",
              "      <td>10</td>\n",
              "      <td>1</td>\n",
              "      <td>3</td>\n",
              "      <td>0</td>\n",
              "      <td>2143</td>\n",
              "      <td>1</td>\n",
              "      <td>0</td>\n",
              "      <td>unknown</td>\n",
              "      <td>5</td>\n",
              "      <td>5</td>\n",
              "      <td>261</td>\n",
              "      <td>1</td>\n",
              "      <td>-1</td>\n",
              "      <td>0</td>\n",
              "      <td>unknown</td>\n",
              "      <td>0</td>\n",
              "    </tr>\n",
              "    <tr>\n",
              "      <th>1</th>\n",
              "      <td>44</td>\n",
              "      <td>1</td>\n",
              "      <td>2</td>\n",
              "      <td>2</td>\n",
              "      <td>0</td>\n",
              "      <td>29</td>\n",
              "      <td>1</td>\n",
              "      <td>0</td>\n",
              "      <td>unknown</td>\n",
              "      <td>5</td>\n",
              "      <td>5</td>\n",
              "      <td>151</td>\n",
              "      <td>1</td>\n",
              "      <td>-1</td>\n",
              "      <td>0</td>\n",
              "      <td>unknown</td>\n",
              "      <td>0</td>\n",
              "    </tr>\n",
              "    <tr>\n",
              "      <th>2</th>\n",
              "      <td>33</td>\n",
              "      <td>5</td>\n",
              "      <td>1</td>\n",
              "      <td>2</td>\n",
              "      <td>0</td>\n",
              "      <td>2</td>\n",
              "      <td>1</td>\n",
              "      <td>1</td>\n",
              "      <td>unknown</td>\n",
              "      <td>5</td>\n",
              "      <td>5</td>\n",
              "      <td>76</td>\n",
              "      <td>1</td>\n",
              "      <td>-1</td>\n",
              "      <td>0</td>\n",
              "      <td>unknown</td>\n",
              "      <td>0</td>\n",
              "    </tr>\n",
              "    <tr>\n",
              "      <th>3</th>\n",
              "      <td>47</td>\n",
              "      <td>4</td>\n",
              "      <td>1</td>\n",
              "      <td>4</td>\n",
              "      <td>0</td>\n",
              "      <td>1506</td>\n",
              "      <td>1</td>\n",
              "      <td>0</td>\n",
              "      <td>unknown</td>\n",
              "      <td>5</td>\n",
              "      <td>5</td>\n",
              "      <td>92</td>\n",
              "      <td>1</td>\n",
              "      <td>-1</td>\n",
              "      <td>0</td>\n",
              "      <td>unknown</td>\n",
              "      <td>0</td>\n",
              "    </tr>\n",
              "    <tr>\n",
              "      <th>4</th>\n",
              "      <td>33</td>\n",
              "      <td>12</td>\n",
              "      <td>2</td>\n",
              "      <td>4</td>\n",
              "      <td>0</td>\n",
              "      <td>1</td>\n",
              "      <td>0</td>\n",
              "      <td>0</td>\n",
              "      <td>unknown</td>\n",
              "      <td>5</td>\n",
              "      <td>5</td>\n",
              "      <td>198</td>\n",
              "      <td>1</td>\n",
              "      <td>-1</td>\n",
              "      <td>0</td>\n",
              "      <td>unknown</td>\n",
              "      <td>0</td>\n",
              "    </tr>\n",
              "  </tbody>\n",
              "</table>\n",
              "</div>"
            ],
            "text/plain": [
              "   age  job  marital  education  ...  pdays  previous  poutcome  Target\n",
              "0   58   10        1          3  ...     -1         0   unknown       0\n",
              "1   44    1        2          2  ...     -1         0   unknown       0\n",
              "2   33    5        1          2  ...     -1         0   unknown       0\n",
              "3   47    4        1          4  ...     -1         0   unknown       0\n",
              "4   33   12        2          4  ...     -1         0   unknown       0\n",
              "\n",
              "[5 rows x 17 columns]"
            ]
          },
          "metadata": {
            "tags": []
          },
          "execution_count": 117
        }
      ]
    },
    {
      "cell_type": "code",
      "metadata": {
        "id": "rSIu8yBf8e4n",
        "colab_type": "code",
        "colab": {}
      },
      "source": [
        "df_loan = df_loan.drop(['day','poutcome','contact','duration'],axis=1)"
      ],
      "execution_count": 0,
      "outputs": []
    },
    {
      "cell_type": "markdown",
      "metadata": {
        "id": "d_CMXbFB--zz",
        "colab_type": "text"
      },
      "source": [
        "Observation:  Atleast 80% of **poutcome** is unknown and 25% of the **Contact** details are unknown. Day of the month does not have any significance for this analysis. **Duration** of the call can be determined only after the call is completed.  This variables might not have significance for prediction as the duration varies from 0 to 1 hour.  Hence these columns can be dropped. "
      ]
    },
    {
      "cell_type": "code",
      "metadata": {
        "id": "sCnQckFK-TvZ",
        "colab_type": "code",
        "outputId": "ec25f00a-cf81-409f-c98f-e53170d330bd",
        "colab": {
          "base_uri": "https://localhost:8080/",
          "height": 457
        }
      },
      "source": [
        "df_loan.describe().T"
      ],
      "execution_count": 119,
      "outputs": [
        {
          "output_type": "execute_result",
          "data": {
            "text/html": [
              "<div>\n",
              "<style scoped>\n",
              "    .dataframe tbody tr th:only-of-type {\n",
              "        vertical-align: middle;\n",
              "    }\n",
              "\n",
              "    .dataframe tbody tr th {\n",
              "        vertical-align: top;\n",
              "    }\n",
              "\n",
              "    .dataframe thead th {\n",
              "        text-align: right;\n",
              "    }\n",
              "</style>\n",
              "<table border=\"1\" class=\"dataframe\">\n",
              "  <thead>\n",
              "    <tr style=\"text-align: right;\">\n",
              "      <th></th>\n",
              "      <th>count</th>\n",
              "      <th>mean</th>\n",
              "      <th>std</th>\n",
              "      <th>min</th>\n",
              "      <th>25%</th>\n",
              "      <th>50%</th>\n",
              "      <th>75%</th>\n",
              "      <th>max</th>\n",
              "    </tr>\n",
              "  </thead>\n",
              "  <tbody>\n",
              "    <tr>\n",
              "      <th>age</th>\n",
              "      <td>45211.0</td>\n",
              "      <td>40.936210</td>\n",
              "      <td>10.618762</td>\n",
              "      <td>18.0</td>\n",
              "      <td>33.0</td>\n",
              "      <td>39.0</td>\n",
              "      <td>48.0</td>\n",
              "      <td>95.0</td>\n",
              "    </tr>\n",
              "    <tr>\n",
              "      <th>job</th>\n",
              "      <td>45211.0</td>\n",
              "      <td>5.371480</td>\n",
              "      <td>3.367861</td>\n",
              "      <td>1.0</td>\n",
              "      <td>2.0</td>\n",
              "      <td>4.0</td>\n",
              "      <td>9.0</td>\n",
              "      <td>12.0</td>\n",
              "    </tr>\n",
              "    <tr>\n",
              "      <th>marital</th>\n",
              "      <td>45211.0</td>\n",
              "      <td>1.513238</td>\n",
              "      <td>0.692948</td>\n",
              "      <td>1.0</td>\n",
              "      <td>1.0</td>\n",
              "      <td>1.0</td>\n",
              "      <td>2.0</td>\n",
              "      <td>3.0</td>\n",
              "    </tr>\n",
              "    <tr>\n",
              "      <th>education</th>\n",
              "      <td>45211.0</td>\n",
              "      <td>2.224813</td>\n",
              "      <td>0.747997</td>\n",
              "      <td>1.0</td>\n",
              "      <td>2.0</td>\n",
              "      <td>2.0</td>\n",
              "      <td>3.0</td>\n",
              "      <td>4.0</td>\n",
              "    </tr>\n",
              "    <tr>\n",
              "      <th>default</th>\n",
              "      <td>45211.0</td>\n",
              "      <td>0.018027</td>\n",
              "      <td>0.133049</td>\n",
              "      <td>0.0</td>\n",
              "      <td>0.0</td>\n",
              "      <td>0.0</td>\n",
              "      <td>0.0</td>\n",
              "      <td>1.0</td>\n",
              "    </tr>\n",
              "    <tr>\n",
              "      <th>balance</th>\n",
              "      <td>45211.0</td>\n",
              "      <td>1362.272058</td>\n",
              "      <td>3044.765829</td>\n",
              "      <td>-8019.0</td>\n",
              "      <td>72.0</td>\n",
              "      <td>448.0</td>\n",
              "      <td>1428.0</td>\n",
              "      <td>102127.0</td>\n",
              "    </tr>\n",
              "    <tr>\n",
              "      <th>housing</th>\n",
              "      <td>45211.0</td>\n",
              "      <td>0.555838</td>\n",
              "      <td>0.496878</td>\n",
              "      <td>0.0</td>\n",
              "      <td>0.0</td>\n",
              "      <td>1.0</td>\n",
              "      <td>1.0</td>\n",
              "      <td>1.0</td>\n",
              "    </tr>\n",
              "    <tr>\n",
              "      <th>loan</th>\n",
              "      <td>45211.0</td>\n",
              "      <td>0.160226</td>\n",
              "      <td>0.366820</td>\n",
              "      <td>0.0</td>\n",
              "      <td>0.0</td>\n",
              "      <td>0.0</td>\n",
              "      <td>0.0</td>\n",
              "      <td>1.0</td>\n",
              "    </tr>\n",
              "    <tr>\n",
              "      <th>month</th>\n",
              "      <td>45211.0</td>\n",
              "      <td>6.144655</td>\n",
              "      <td>2.408034</td>\n",
              "      <td>1.0</td>\n",
              "      <td>5.0</td>\n",
              "      <td>6.0</td>\n",
              "      <td>8.0</td>\n",
              "      <td>12.0</td>\n",
              "    </tr>\n",
              "    <tr>\n",
              "      <th>campaign</th>\n",
              "      <td>45211.0</td>\n",
              "      <td>2.763841</td>\n",
              "      <td>3.098021</td>\n",
              "      <td>1.0</td>\n",
              "      <td>1.0</td>\n",
              "      <td>2.0</td>\n",
              "      <td>3.0</td>\n",
              "      <td>63.0</td>\n",
              "    </tr>\n",
              "    <tr>\n",
              "      <th>pdays</th>\n",
              "      <td>45211.0</td>\n",
              "      <td>40.197828</td>\n",
              "      <td>100.128746</td>\n",
              "      <td>-1.0</td>\n",
              "      <td>-1.0</td>\n",
              "      <td>-1.0</td>\n",
              "      <td>-1.0</td>\n",
              "      <td>871.0</td>\n",
              "    </tr>\n",
              "    <tr>\n",
              "      <th>previous</th>\n",
              "      <td>45211.0</td>\n",
              "      <td>0.580323</td>\n",
              "      <td>2.303441</td>\n",
              "      <td>0.0</td>\n",
              "      <td>0.0</td>\n",
              "      <td>0.0</td>\n",
              "      <td>0.0</td>\n",
              "      <td>275.0</td>\n",
              "    </tr>\n",
              "    <tr>\n",
              "      <th>Target</th>\n",
              "      <td>45211.0</td>\n",
              "      <td>0.116985</td>\n",
              "      <td>0.321406</td>\n",
              "      <td>0.0</td>\n",
              "      <td>0.0</td>\n",
              "      <td>0.0</td>\n",
              "      <td>0.0</td>\n",
              "      <td>1.0</td>\n",
              "    </tr>\n",
              "  </tbody>\n",
              "</table>\n",
              "</div>"
            ],
            "text/plain": [
              "             count         mean          std  ...    50%     75%       max\n",
              "age        45211.0    40.936210    10.618762  ...   39.0    48.0      95.0\n",
              "job        45211.0     5.371480     3.367861  ...    4.0     9.0      12.0\n",
              "marital    45211.0     1.513238     0.692948  ...    1.0     2.0       3.0\n",
              "education  45211.0     2.224813     0.747997  ...    2.0     3.0       4.0\n",
              "default    45211.0     0.018027     0.133049  ...    0.0     0.0       1.0\n",
              "balance    45211.0  1362.272058  3044.765829  ...  448.0  1428.0  102127.0\n",
              "housing    45211.0     0.555838     0.496878  ...    1.0     1.0       1.0\n",
              "loan       45211.0     0.160226     0.366820  ...    0.0     0.0       1.0\n",
              "month      45211.0     6.144655     2.408034  ...    6.0     8.0      12.0\n",
              "campaign   45211.0     2.763841     3.098021  ...    2.0     3.0      63.0\n",
              "pdays      45211.0    40.197828   100.128746  ...   -1.0    -1.0     871.0\n",
              "previous   45211.0     0.580323     2.303441  ...    0.0     0.0     275.0\n",
              "Target     45211.0     0.116985     0.321406  ...    0.0     0.0       1.0\n",
              "\n",
              "[13 rows x 8 columns]"
            ]
          },
          "metadata": {
            "tags": []
          },
          "execution_count": 119
        }
      ]
    },
    {
      "cell_type": "code",
      "metadata": {
        "id": "SsGNbn_gC2ak",
        "colab_type": "code",
        "outputId": "d62b9022-04af-4da0-f1b4-a777c911f1e7",
        "colab": {
          "base_uri": "https://localhost:8080/",
          "height": 465
        }
      },
      "source": [
        "#Design a correlation heat map to understand the correlation within the independent variables.\n",
        "#This will help us to determine any multicolinearity and remove the same from the dataset for building a better model.\n",
        "df_loanN = df_loan.iloc[:,0:13] # removing the target variable from the correlation analysis.\n",
        "corr = df_loanN.corr()\n",
        "plt.figure(figsize=(10,7))\n",
        "# create a mask so we only see the correlation values once\n",
        "mask = np.zeros_like(corr)\n",
        "mask[np.triu_indices_from(mask, 1)] = True\n",
        "a = sns.heatmap(corr,mask=mask, annot=True, fmt='.2f') # Plot the headmap and understand the correlation\n",
        "labelx = a.set_xticklabels(a.get_xticklabels(), rotation=45)\n",
        "labely = a.set_yticklabels(a.get_yticklabels(), rotation=45)"
      ],
      "execution_count": 120,
      "outputs": [
        {
          "output_type": "display_data",
          "data": {
            "image/png": "[encoded data removed]",
            "text/plain": [
              "<Figure size 720x504 with 2 Axes>"
            ]
          },
          "metadata": {
            "tags": []
          }
        }
      ]
    },
    {
      "cell_type": "markdown",
      "metadata": {
        "id": "lkHBA7ylFZRQ",
        "colab_type": "text"
      },
      "source": [
        "Observation:  There seems to be minimal correlation between education and job.  Similar correlation is noted between pdays (days passed from previous campaign) and previous (number of contacts before this campaign).  There is no significance and hence no multicollinearity noted."
      ]
    },
    {
      "cell_type": "code",
      "metadata": {
        "id": "ZRkWfYbrIgu1",
        "colab_type": "code",
        "colab": {
          "base_uri": "https://localhost:8080/",
          "height": 206
        },
        "outputId": "6b048a7d-fc60-4d93-ef28-49785508b4f5"
      },
      "source": [
        "df_loan.loc[df_loan.previous > 0,'Pre_Contact'] = 1\n",
        "df_loan.loc[df_loan.previous == 0,'Pre_Contact'] = 0\n",
        "df_loan = df_loan.drop(['pdays'],axis=1)\n",
        "df_loan.head()"
      ],
      "execution_count": 121,
      "outputs": [
        {
          "output_type": "execute_result",
          "data": {
            "text/html": [
              "<div>\n",
              "<style scoped>\n",
              "    .dataframe tbody tr th:only-of-type {\n",
              "        vertical-align: middle;\n",
              "    }\n",
              "\n",
              "    .dataframe tbody tr th {\n",
              "        vertical-align: top;\n",
              "    }\n",
              "\n",
              "    .dataframe thead th {\n",
              "        text-align: right;\n",
              "    }\n",
              "</style>\n",
              "<table border=\"1\" class=\"dataframe\">\n",
              "  <thead>\n",
              "    <tr style=\"text-align: right;\">\n",
              "      <th></th>\n",
              "      <th>age</th>\n",
              "      <th>job</th>\n",
              "      <th>marital</th>\n",
              "      <th>education</th>\n",
              "      <th>default</th>\n",
              "      <th>balance</th>\n",
              "      <th>housing</th>\n",
              "      <th>loan</th>\n",
              "      <th>month</th>\n",
              "      <th>campaign</th>\n",
              "      <th>previous</th>\n",
              "      <th>Target</th>\n",
              "      <th>Pre_Contact</th>\n",
              "    </tr>\n",
              "  </thead>\n",
              "  <tbody>\n",
              "    <tr>\n",
              "      <th>0</th>\n",
              "      <td>58</td>\n",
              "      <td>10</td>\n",
              "      <td>1</td>\n",
              "      <td>3</td>\n",
              "      <td>0</td>\n",
              "      <td>2143</td>\n",
              "      <td>1</td>\n",
              "      <td>0</td>\n",
              "      <td>5</td>\n",
              "      <td>1</td>\n",
              "      <td>0</td>\n",
              "      <td>0</td>\n",
              "      <td>0.0</td>\n",
              "    </tr>\n",
              "    <tr>\n",
              "      <th>1</th>\n",
              "      <td>44</td>\n",
              "      <td>1</td>\n",
              "      <td>2</td>\n",
              "      <td>2</td>\n",
              "      <td>0</td>\n",
              "      <td>29</td>\n",
              "      <td>1</td>\n",
              "      <td>0</td>\n",
              "      <td>5</td>\n",
              "      <td>1</td>\n",
              "      <td>0</td>\n",
              "      <td>0</td>\n",
              "      <td>0.0</td>\n",
              "    </tr>\n",
              "    <tr>\n",
              "      <th>2</th>\n",
              "      <td>33</td>\n",
              "      <td>5</td>\n",
              "      <td>1</td>\n",
              "      <td>2</td>\n",
              "      <td>0</td>\n",
              "      <td>2</td>\n",
              "      <td>1</td>\n",
              "      <td>1</td>\n",
              "      <td>5</td>\n",
              "      <td>1</td>\n",
              "      <td>0</td>\n",
              "      <td>0</td>\n",
              "      <td>0.0</td>\n",
              "    </tr>\n",
              "    <tr>\n",
              "      <th>3</th>\n",
              "      <td>47</td>\n",
              "      <td>4</td>\n",
              "      <td>1</td>\n",
              "      <td>4</td>\n",
              "      <td>0</td>\n",
              "      <td>1506</td>\n",
              "      <td>1</td>\n",
              "      <td>0</td>\n",
              "      <td>5</td>\n",
              "      <td>1</td>\n",
              "      <td>0</td>\n",
              "      <td>0</td>\n",
              "      <td>0.0</td>\n",
              "    </tr>\n",
              "    <tr>\n",
              "      <th>4</th>\n",
              "      <td>33</td>\n",
              "      <td>12</td>\n",
              "      <td>2</td>\n",
              "      <td>4</td>\n",
              "      <td>0</td>\n",
              "      <td>1</td>\n",
              "      <td>0</td>\n",
              "      <td>0</td>\n",
              "      <td>5</td>\n",
              "      <td>1</td>\n",
              "      <td>0</td>\n",
              "      <td>0</td>\n",
              "      <td>0.0</td>\n",
              "    </tr>\n",
              "  </tbody>\n",
              "</table>\n",
              "</div>"
            ],
            "text/plain": [
              "   age  job  marital  education  ...  campaign  previous  Target  Pre_Contact\n",
              "0   58   10        1          3  ...         1         0       0          0.0\n",
              "1   44    1        2          2  ...         1         0       0          0.0\n",
              "2   33    5        1          2  ...         1         0       0          0.0\n",
              "3   47    4        1          4  ...         1         0       0          0.0\n",
              "4   33   12        2          4  ...         1         0       0          0.0\n",
              "\n",
              "[5 rows x 13 columns]"
            ]
          },
          "metadata": {
            "tags": []
          },
          "execution_count": 121
        }
      ]
    },
    {
      "cell_type": "markdown",
      "metadata": {
        "id": "e5OEKgXVNgEE",
        "colab_type": "text"
      },
      "source": [
        "Observation and action: Pdays is the number of days passed by after the client was last contacted. 80% of the values are -1.  Further analysis has shown that all pDays with -1 has Previous column value as 0.  This means that this specific customer was never contacted before.  We need the details of whether or not a customer was contacted before and hence these two variable can be combined into one having 0 for not contacted and others for contacted.  "
      ]
    },
    {
      "cell_type": "code",
      "metadata": {
        "id": "Tx2gZO0H_zER",
        "colab_type": "code",
        "colab": {}
      },
      "source": [
        "# Use the PairPlot to understand individual variables and its distribution.\n",
        "sns.pairplot(df_loan)"
      ],
      "execution_count": 0,
      "outputs": []
    },
    {
      "cell_type": "markdown",
      "metadata": {
        "id": "RUQaIyBB_6zm",
        "colab_type": "text"
      },
      "source": [
        "Observation:  The Pairplot for all the variables does not provide much details as the data is unbalanced and there are no major correlation as we discussed in the correlation heatmap."
      ]
    },
    {
      "cell_type": "code",
      "metadata": {
        "id": "ftT9YOkdDfOr",
        "colab_type": "code",
        "outputId": "70a90d5f-ae28-45df-b4a0-e3f557a04171",
        "colab": {
          "base_uri": "https://localhost:8080/",
          "height": 568
        }
      },
      "source": [
        "# Use the PairPlot to understand individual variables and its distribution.\n",
        "sns.pairplot(df_loan[['age','balance','previous']])"
      ],
      "execution_count": 78,
      "outputs": [
        {
          "output_type": "execute_result",
          "data": {
            "text/plain": [
              "<seaborn.axisgrid.PairGrid at 0x7f0b037fce80>"
            ]
          },
          "metadata": {
            "tags": []
          },
          "execution_count": 78
        },
        {
          "output_type": "display_data",
          "data": {
            "image/png": "[encoded data removed]",
            "text/plain": [
              "<Figure size 540x540 with 12 Axes>"
            ]
          },
          "metadata": {
            "tags": []
          }
        }
      ]
    },
    {
      "cell_type": "markdown",
      "metadata": {
        "id": "79Lo1nSx7PKW",
        "colab_type": "text"
      },
      "source": [
        "Observation:\n",
        "\n",
        "\n",
        "1.   Age: There is no significant different on bank balance between age groups.  They seem to lie between 0 to 30000.\n",
        "2. Balance: Bank Balance seems to be spread between 0 and 30000 with outliers.  Atleast 15% of the customers have balance as less than Zero (negative)\n",
        "3.   Previous: Atleast 80% of the customers were not contacted for the previous campaign.  Their Bank Balance does not show significance as there are customers with bank balance more than 10000 euros and they have not been contacted.\n",
        "\n"
      ]
    },
    {
      "cell_type": "code",
      "metadata": {
        "id": "hLmJQfcLKbYF",
        "colab_type": "code",
        "colab": {}
      },
      "source": [
        "df_loan = df_loan.drop(['previous'],axis=1) #Removing Previous also as it has been merged with pdays as a new column Pre_contact"
      ],
      "execution_count": 0,
      "outputs": []
    },
    {
      "cell_type": "code",
      "metadata": {
        "id": "p7UJdOaAKG0O",
        "colab_type": "code",
        "outputId": "d8822424-31a3-4334-8830-226ffc329481",
        "colab": {
          "base_uri": "https://localhost:8080/",
          "height": 426
        }
      },
      "source": [
        "df_loan.describe().T"
      ],
      "execution_count": 123,
      "outputs": [
        {
          "output_type": "execute_result",
          "data": {
            "text/html": [
              "<div>\n",
              "<style scoped>\n",
              "    .dataframe tbody tr th:only-of-type {\n",
              "        vertical-align: middle;\n",
              "    }\n",
              "\n",
              "    .dataframe tbody tr th {\n",
              "        vertical-align: top;\n",
              "    }\n",
              "\n",
              "    .dataframe thead th {\n",
              "        text-align: right;\n",
              "    }\n",
              "</style>\n",
              "<table border=\"1\" class=\"dataframe\">\n",
              "  <thead>\n",
              "    <tr style=\"text-align: right;\">\n",
              "      <th></th>\n",
              "      <th>count</th>\n",
              "      <th>mean</th>\n",
              "      <th>std</th>\n",
              "      <th>min</th>\n",
              "      <th>25%</th>\n",
              "      <th>50%</th>\n",
              "      <th>75%</th>\n",
              "      <th>max</th>\n",
              "    </tr>\n",
              "  </thead>\n",
              "  <tbody>\n",
              "    <tr>\n",
              "      <th>age</th>\n",
              "      <td>45211.0</td>\n",
              "      <td>40.936210</td>\n",
              "      <td>10.618762</td>\n",
              "      <td>18.0</td>\n",
              "      <td>33.0</td>\n",
              "      <td>39.0</td>\n",
              "      <td>48.0</td>\n",
              "      <td>95.0</td>\n",
              "    </tr>\n",
              "    <tr>\n",
              "      <th>job</th>\n",
              "      <td>45211.0</td>\n",
              "      <td>5.371480</td>\n",
              "      <td>3.367861</td>\n",
              "      <td>1.0</td>\n",
              "      <td>2.0</td>\n",
              "      <td>4.0</td>\n",
              "      <td>9.0</td>\n",
              "      <td>12.0</td>\n",
              "    </tr>\n",
              "    <tr>\n",
              "      <th>marital</th>\n",
              "      <td>45211.0</td>\n",
              "      <td>1.513238</td>\n",
              "      <td>0.692948</td>\n",
              "      <td>1.0</td>\n",
              "      <td>1.0</td>\n",
              "      <td>1.0</td>\n",
              "      <td>2.0</td>\n",
              "      <td>3.0</td>\n",
              "    </tr>\n",
              "    <tr>\n",
              "      <th>education</th>\n",
              "      <td>45211.0</td>\n",
              "      <td>2.224813</td>\n",
              "      <td>0.747997</td>\n",
              "      <td>1.0</td>\n",
              "      <td>2.0</td>\n",
              "      <td>2.0</td>\n",
              "      <td>3.0</td>\n",
              "      <td>4.0</td>\n",
              "    </tr>\n",
              "    <tr>\n",
              "      <th>default</th>\n",
              "      <td>45211.0</td>\n",
              "      <td>0.018027</td>\n",
              "      <td>0.133049</td>\n",
              "      <td>0.0</td>\n",
              "      <td>0.0</td>\n",
              "      <td>0.0</td>\n",
              "      <td>0.0</td>\n",
              "      <td>1.0</td>\n",
              "    </tr>\n",
              "    <tr>\n",
              "      <th>balance</th>\n",
              "      <td>45211.0</td>\n",
              "      <td>1362.272058</td>\n",
              "      <td>3044.765829</td>\n",
              "      <td>-8019.0</td>\n",
              "      <td>72.0</td>\n",
              "      <td>448.0</td>\n",
              "      <td>1428.0</td>\n",
              "      <td>102127.0</td>\n",
              "    </tr>\n",
              "    <tr>\n",
              "      <th>housing</th>\n",
              "      <td>45211.0</td>\n",
              "      <td>0.555838</td>\n",
              "      <td>0.496878</td>\n",
              "      <td>0.0</td>\n",
              "      <td>0.0</td>\n",
              "      <td>1.0</td>\n",
              "      <td>1.0</td>\n",
              "      <td>1.0</td>\n",
              "    </tr>\n",
              "    <tr>\n",
              "      <th>loan</th>\n",
              "      <td>45211.0</td>\n",
              "      <td>0.160226</td>\n",
              "      <td>0.366820</td>\n",
              "      <td>0.0</td>\n",
              "      <td>0.0</td>\n",
              "      <td>0.0</td>\n",
              "      <td>0.0</td>\n",
              "      <td>1.0</td>\n",
              "    </tr>\n",
              "    <tr>\n",
              "      <th>month</th>\n",
              "      <td>45211.0</td>\n",
              "      <td>6.144655</td>\n",
              "      <td>2.408034</td>\n",
              "      <td>1.0</td>\n",
              "      <td>5.0</td>\n",
              "      <td>6.0</td>\n",
              "      <td>8.0</td>\n",
              "      <td>12.0</td>\n",
              "    </tr>\n",
              "    <tr>\n",
              "      <th>campaign</th>\n",
              "      <td>45211.0</td>\n",
              "      <td>2.763841</td>\n",
              "      <td>3.098021</td>\n",
              "      <td>1.0</td>\n",
              "      <td>1.0</td>\n",
              "      <td>2.0</td>\n",
              "      <td>3.0</td>\n",
              "      <td>63.0</td>\n",
              "    </tr>\n",
              "    <tr>\n",
              "      <th>Target</th>\n",
              "      <td>45211.0</td>\n",
              "      <td>0.116985</td>\n",
              "      <td>0.321406</td>\n",
              "      <td>0.0</td>\n",
              "      <td>0.0</td>\n",
              "      <td>0.0</td>\n",
              "      <td>0.0</td>\n",
              "      <td>1.0</td>\n",
              "    </tr>\n",
              "    <tr>\n",
              "      <th>Pre_Contact</th>\n",
              "      <td>45211.0</td>\n",
              "      <td>0.182633</td>\n",
              "      <td>0.386369</td>\n",
              "      <td>0.0</td>\n",
              "      <td>0.0</td>\n",
              "      <td>0.0</td>\n",
              "      <td>0.0</td>\n",
              "      <td>1.0</td>\n",
              "    </tr>\n",
              "  </tbody>\n",
              "</table>\n",
              "</div>"
            ],
            "text/plain": [
              "               count         mean          std  ...    50%     75%       max\n",
              "age          45211.0    40.936210    10.618762  ...   39.0    48.0      95.0\n",
              "job          45211.0     5.371480     3.367861  ...    4.0     9.0      12.0\n",
              "marital      45211.0     1.513238     0.692948  ...    1.0     2.0       3.0\n",
              "education    45211.0     2.224813     0.747997  ...    2.0     3.0       4.0\n",
              "default      45211.0     0.018027     0.133049  ...    0.0     0.0       1.0\n",
              "balance      45211.0  1362.272058  3044.765829  ...  448.0  1428.0  102127.0\n",
              "housing      45211.0     0.555838     0.496878  ...    1.0     1.0       1.0\n",
              "loan         45211.0     0.160226     0.366820  ...    0.0     0.0       1.0\n",
              "month        45211.0     6.144655     2.408034  ...    6.0     8.0      12.0\n",
              "campaign     45211.0     2.763841     3.098021  ...    2.0     3.0      63.0\n",
              "Target       45211.0     0.116985     0.321406  ...    0.0     0.0       1.0\n",
              "Pre_Contact  45211.0     0.182633     0.386369  ...    0.0     0.0       1.0\n",
              "\n",
              "[12 rows x 8 columns]"
            ]
          },
          "metadata": {
            "tags": []
          },
          "execution_count": 123
        }
      ]
    },
    {
      "cell_type": "code",
      "metadata": {
        "id": "YJ53EX_4UnzM",
        "colab_type": "code",
        "outputId": "4b88c4ce-e650-425a-dea3-e8d6161b834c",
        "colab": {
          "base_uri": "https://localhost:8080/",
          "height": 388
        }
      },
      "source": [
        "# Using CatPlot to understand the relationship between Housing / Month and the Target variable\n",
        "sns.catplot(x=\"housing\", \n",
        "               y=\"month\",\n",
        "                hue=\"Target\", \n",
        "               data=df_loan, \n",
        "              kind=\"box\")"
      ],
      "execution_count": 124,
      "outputs": [
        {
          "output_type": "execute_result",
          "data": {
            "text/plain": [
              "<seaborn.axisgrid.FacetGrid at 0x7f0b057f3898>"
            ]
          },
          "metadata": {
            "tags": []
          },
          "execution_count": 124
        },
        {
          "output_type": "display_data",
          "data": {
            "image/png": "[encoded data removed]",
            "text/plain": [
              "<Figure size 402.375x360 with 1 Axes>"
            ]
          },
          "metadata": {
            "tags": []
          }
        }
      ]
    },
    {
      "cell_type": "markdown",
      "metadata": {
        "id": "N9tNAqMH7G0e",
        "colab_type": "text"
      },
      "source": [
        "Observation: Those who do not have a housing loan are targetted between the months April and August as part of the campaign. The conversion rate is also high for non-housing loan customers. Housing loan takers have a 50% conversion rate."
      ]
    },
    {
      "cell_type": "code",
      "metadata": {
        "id": "DU3dHpGL_jlH",
        "colab_type": "code",
        "colab": {
          "base_uri": "https://localhost:8080/",
          "height": 388
        },
        "outputId": "5934793d-a845-4fd4-ec36-2e064b69cc87"
      },
      "source": [
        "# Using CatPlot to understand the relationship between loan / Month and the Target variable\n",
        "sns.catplot(x=\"loan\", \n",
        "               y=\"month\",\n",
        "                hue=\"Target\", \n",
        "               data=df_loan, \n",
        "              kind=\"box\")"
      ],
      "execution_count": 125,
      "outputs": [
        {
          "output_type": "execute_result",
          "data": {
            "text/plain": [
              "<seaborn.axisgrid.FacetGrid at 0x7f0b05153f60>"
            ]
          },
          "metadata": {
            "tags": []
          },
          "execution_count": 125
        },
        {
          "output_type": "display_data",
          "data": {
            "image/png": "[encoded data removed]",
            "text/plain": [
              "<Figure size 402.375x360 with 1 Axes>"
            ]
          },
          "metadata": {
            "tags": []
          }
        }
      ]
    },
    {
      "cell_type": "markdown",
      "metadata": {
        "id": "IRm2rw3sDQHy",
        "colab_type": "text"
      },
      "source": [
        "Observation: Those who do not have a loan are targetted between the months April and August as part of the campaign. The conversion rate is also high for non-loan customers. Loan takers have a 50% conversion rate."
      ]
    },
    {
      "cell_type": "code",
      "metadata": {
        "id": "YEdhAI57DyBH",
        "colab_type": "code",
        "colab": {
          "base_uri": "https://localhost:8080/",
          "height": 388
        },
        "outputId": "53b30d9f-003a-4f43-cf0b-b8d9ae15de4f"
      },
      "source": [
        "# Using CatPlot to understand the relationship between loan / Month and the Target variable\n",
        "#df_loan.loc[df_loan.previous > 0] = 1\n",
        "df_loanC = df_loan.copy()\n",
        "df_loanC.loc[df_loanC.age <= 30, 'Age Group'] = '20 - 30' \n",
        "df_loanC.loc[(df_loanC.age > 30) & (df_loanC.age <= 40), 'Age Group'] = '30 - 40'\n",
        "df_loanC.loc[(df_loanC.age > 40) & (df_loanC.age <= 50), 'Age Group'] = '40 - 50'\n",
        "df_loanC.loc[df_loanC.age > 50, 'Age Group'] = '> 50'\n",
        "\n",
        "sns.catplot(x=\"Age Group\", \n",
        "               y=\"balance\",\n",
        "                hue=\"Target\", \n",
        "               data=df_loanC, \n",
        "              kind=\"strip\")"
      ],
      "execution_count": 126,
      "outputs": [
        {
          "output_type": "execute_result",
          "data": {
            "text/plain": [
              "<seaborn.axisgrid.FacetGrid at 0x7f0b02b1bf60>"
            ]
          },
          "metadata": {
            "tags": []
          },
          "execution_count": 126
        },
        {
          "output_type": "display_data",
          "data": {
            "image/png": "[encoded data removed]",
            "text/plain": [
              "<Figure size 402.375x360 with 1 Axes>"
            ]
          },
          "metadata": {
            "tags": []
          }
        }
      ]
    },
    {
      "cell_type": "markdown",
      "metadata": {
        "id": "2bcX_XQlGjXD",
        "colab_type": "text"
      },
      "source": [
        "Observation:  Customers with balance of 0 to 30000 are spread across all age groups.  Term Deposit takers are also spread across all age groups."
      ]
    },
    {
      "cell_type": "code",
      "metadata": {
        "id": "arHk_Z44srAv",
        "colab_type": "code",
        "outputId": "4a96e119-f646-4dd6-e44d-6b7bb8fc1afc",
        "colab": {
          "base_uri": "https://localhost:8080/",
          "height": 408
        }
      },
      "source": [
        "# Using CatPlot to understand the relationship between Age / Education / Marital status and the Target variable\n",
        "sns.catplot(x=\"default\", \n",
        "               y=\"age\", \n",
        "               hue=\"Target\",\n",
        "               col=\"marital\",\n",
        "               data=df_loan, \n",
        "               kind=\"strip\")"
      ],
      "execution_count": 127,
      "outputs": [
        {
          "output_type": "execute_result",
          "data": {
            "text/plain": [
              "<seaborn.axisgrid.FacetGrid at 0x7f0b02b7a9e8>"
            ]
          },
          "metadata": {
            "tags": []
          },
          "execution_count": 127
        },
        {
          "output_type": "display_data",
          "data": {
            "image/png": "[encoded data removed]",
            "text/plain": [
              "<Figure size 1122.38x360 with 3 Axes>"
            ]
          },
          "metadata": {
            "tags": []
          }
        }
      ]
    },
    {
      "cell_type": "markdown",
      "metadata": {
        "id": "Qn2r-WzPCi3B",
        "colab_type": "text"
      },
      "source": [
        "Observation: Non Defaulters are more likely to take the term deposit than the defaulters and they are in all age groups."
      ]
    },
    {
      "cell_type": "markdown",
      "metadata": {
        "id": "Q05-8yBg8xfZ",
        "colab_type": "text"
      },
      "source": [
        "## Split the data into Training and Testing Split"
      ]
    },
    {
      "cell_type": "code",
      "metadata": {
        "id": "yAsPGkTnssl4",
        "colab_type": "code",
        "outputId": "91713f73-7892-45ec-89cb-92d3fb4df9e7",
        "colab": {
          "base_uri": "https://localhost:8080/",
          "height": 92
        }
      },
      "source": [
        "#Understand the Target Variable spread.\n",
        "print('Split of Loan decisions:\\n',df_loan['Target'].value_counts())\n"
      ],
      "execution_count": 128,
      "outputs": [
        {
          "output_type": "stream",
          "text": [
            "Split of Loan decisions:\n",
            " 0    39922\n",
            "1     5289\n",
            "Name: Target, dtype: int64\n"
          ],
          "name": "stdout"
        }
      ]
    },
    {
      "cell_type": "markdown",
      "metadata": {
        "id": "LE4b6sSb90MA",
        "colab_type": "text"
      },
      "source": [
        "Observation:  Target variable is of 75 (0) and 25 (1) split."
      ]
    },
    {
      "cell_type": "code",
      "metadata": {
        "id": "CGrBC7Kt8YcC",
        "colab_type": "code",
        "colab": {}
      },
      "source": [
        "# X and y Values and Data Split for Model Training\n",
        "\n",
        "X = df_loan.drop(['Target'], axis=1) # Copy all except Personal Loan Column to X as Personal Loan is our Target Variable\n",
        "y = df_loan[['Target']] # Copy the Target Variable to y\n",
        "ModelLabels = [] # Capture Labels\n",
        "ModelResults = [] # Capture Results\n",
        "X_train, X_test, y_train, y_test =  train_test_split(X,y,test_size=0.30,random_state=15) # Split the data into Train and Test split"
      ],
      "execution_count": 0,
      "outputs": []
    },
    {
      "cell_type": "markdown",
      "metadata": {
        "id": "DgbgAtm-ARJT",
        "colab_type": "text"
      },
      "source": [
        "## Logistics Regression"
      ]
    },
    {
      "cell_type": "code",
      "metadata": {
        "id": "gSiI9IHm-azC",
        "colab_type": "code",
        "outputId": "bd527896-6275-44e6-9b62-94421bd3800d",
        "colab": {
          "base_uri": "https://localhost:8080/",
          "height": 318
        }
      },
      "source": [
        "lr = LogisticRegression()\n",
        "lr.fit(X_train,y_train)\n",
        "y_predictL = lr.predict(X_test)\n",
        "print('Logistic Regression Score for Training set =',lr.score(X_train, y_train))\n",
        "print('Logistic Regression Score for Test set =',lr.score(X_test, y_test))\n",
        "print(metrics.classification_report(y_test, y_predictL))\n",
        "\n",
        "# adding result and label to lists\n",
        "ModelLabels.append(\"Log_Reg\")\n",
        "ModelResults.append(lr.score(X_test,y_test))"
      ],
      "execution_count": 130,
      "outputs": [
        {
          "output_type": "stream",
          "text": [
            "/usr/local/lib/python3.6/dist-packages/sklearn/linear_model/logistic.py:432: FutureWarning: Default solver will be changed to 'lbfgs' in 0.22. Specify a solver to silence this warning.\n",
            "  FutureWarning)\n",
            "/usr/local/lib/python3.6/dist-packages/sklearn/utils/validation.py:724: DataConversionWarning: A column-vector y was passed when a 1d array was expected. Please change the shape of y to (n_samples, ), for example using ravel().\n",
            "  y = column_or_1d(y, warn=True)\n"
          ],
          "name": "stderr"
        },
        {
          "output_type": "stream",
          "text": [
            "Logistic Regression Score for Training set = 0.8813789616709324\n",
            "Logistic Regression Score for Test set = 0.8872751400766735\n",
            "              precision    recall  f1-score   support\n",
            "\n",
            "           0       0.89      1.00      0.94     12032\n",
            "           1       0.71      0.00      0.01      1532\n",
            "\n",
            "    accuracy                           0.89     13564\n",
            "   macro avg       0.80      0.50      0.47     13564\n",
            "weighted avg       0.87      0.89      0.83     13564\n",
            "\n"
          ],
          "name": "stdout"
        }
      ]
    },
    {
      "cell_type": "markdown",
      "metadata": {
        "id": "NXtBTk8WLZLe",
        "colab_type": "text"
      },
      "source": [
        "## Decision Tree"
      ]
    },
    {
      "cell_type": "code",
      "metadata": {
        "id": "TVDyxUU2-Z-J",
        "colab_type": "code",
        "outputId": "b5c8321a-0a2d-434b-c9ab-b568eb2d1c99",
        "colab": {
          "base_uri": "https://localhost:8080/",
          "height": 223
        }
      },
      "source": [
        "# Decision Tree\n",
        "dt = DecisionTreeClassifier()\n",
        "dt.fit(X_train,y_train)\n",
        "\n",
        "y_predictD = dt.predict(X_test)\n",
        "print('Decision Tree Score for Training set =',dt.score(X_train, y_train))\n",
        "print('Decision Tree Score for Test set =',dt.score(X_test, y_test))\n",
        "print(metrics.classification_report(y_test, y_predictD))\n",
        "# adding result and label to lists\n",
        "ModelLabels.append(\"Dec_Tree\")\n",
        "ModelResults.append(dt.score(X_test,y_test))"
      ],
      "execution_count": 131,
      "outputs": [
        {
          "output_type": "stream",
          "text": [
            "Decision Tree Score for Training set = 0.9998104085695326\n",
            "Decision Tree Score for Test set = 0.8136242996166323\n",
            "              precision    recall  f1-score   support\n",
            "\n",
            "           0       0.91      0.88      0.89     12032\n",
            "           1       0.23      0.28      0.26      1532\n",
            "\n",
            "    accuracy                           0.81     13564\n",
            "   macro avg       0.57      0.58      0.57     13564\n",
            "weighted avg       0.83      0.81      0.82     13564\n",
            "\n"
          ],
          "name": "stdout"
        }
      ]
    },
    {
      "cell_type": "markdown",
      "metadata": {
        "id": "pveMGRKpLcc2",
        "colab_type": "text"
      },
      "source": [
        "## Random Forest"
      ]
    },
    {
      "cell_type": "code",
      "metadata": {
        "id": "KuMJ4mOBDhCt",
        "colab_type": "code",
        "outputId": "5d0512cc-ef9c-465b-fd18-4569fbb9712b",
        "colab": {
          "base_uri": "https://localhost:8080/",
          "height": 281
        }
      },
      "source": [
        "# Random forest\n",
        "rf = RandomForestClassifier(n_estimators=100,random_state = 1)\n",
        "rf.fit(X_train, y_train)\n",
        "y_predictR = rf.predict(X_test)\n",
        "print('Random Forest Score for Training set =',rf.score(X_train, y_train))\n",
        "print('Random Forest Score for Test set =',rf.score(X_test, y_test))\n",
        "print(metrics.classification_report(y_test, y_predictR))\n",
        "# adding result and label to lists\n",
        "ModelLabels.append(\"Rand_For\")\n",
        "ModelResults.append(rf.score(X_test,y_test))"
      ],
      "execution_count": 132,
      "outputs": [
        {
          "output_type": "stream",
          "text": [
            "/usr/local/lib/python3.6/dist-packages/ipykernel_launcher.py:2: DataConversionWarning: A column-vector y was passed when a 1d array was expected. Please change the shape of y to (n_samples,), for example using ravel().\n",
            "  \n"
          ],
          "name": "stderr"
        },
        {
          "output_type": "stream",
          "text": [
            "Random Forest Score for Training set = 0.9997472114260435\n",
            "Random Forest Score for Test set = 0.8839575346505456\n",
            "              precision    recall  f1-score   support\n",
            "\n",
            "           0       0.90      0.98      0.94     12032\n",
            "           1       0.46      0.15      0.22      1532\n",
            "\n",
            "    accuracy                           0.88     13564\n",
            "   macro avg       0.68      0.56      0.58     13564\n",
            "weighted avg       0.85      0.88      0.86     13564\n",
            "\n"
          ],
          "name": "stdout"
        }
      ]
    },
    {
      "cell_type": "markdown",
      "metadata": {
        "id": "TYeiq6ZNLfO8",
        "colab_type": "text"
      },
      "source": [
        "## Naive Bayes"
      ]
    },
    {
      "cell_type": "code",
      "metadata": {
        "id": "FZSD0kFbEMPS",
        "colab_type": "code",
        "outputId": "649cd2ce-63a2-4c29-e48a-917ef9989fd2",
        "colab": {
          "base_uri": "https://localhost:8080/",
          "height": 281
        }
      },
      "source": [
        "# Naive Bayes \n",
        "nb = GaussianNB()\n",
        "nb.fit(X_train,y_train)\n",
        "y_predictN = nb.predict(X_test)\n",
        "print('Naive Bayes Score for Training set =',nb.score(X_train, y_train))\n",
        "print('Naive Bayes Score for Test set =',nb.score(X_test, y_test))\n",
        "print(metrics.classification_report(y_test, y_predictN))\n",
        "# adding result and label to lists\n",
        "ModelLabels.append(\"Naive_Bayes\")\n",
        "ModelResults.append(nb.score(X_test,y_test))"
      ],
      "execution_count": 133,
      "outputs": [
        {
          "output_type": "stream",
          "text": [
            "Naive Bayes Score for Training set = 0.8479792713369356\n",
            "Naive Bayes Score for Test set = 0.8487909171335889\n",
            "              precision    recall  f1-score   support\n",
            "\n",
            "           0       0.91      0.92      0.92     12032\n",
            "           1       0.31      0.28      0.30      1532\n",
            "\n",
            "    accuracy                           0.85     13564\n",
            "   macro avg       0.61      0.60      0.61     13564\n",
            "weighted avg       0.84      0.85      0.85     13564\n",
            "\n"
          ],
          "name": "stdout"
        },
        {
          "output_type": "stream",
          "text": [
            "/usr/local/lib/python3.6/dist-packages/sklearn/utils/validation.py:724: DataConversionWarning: A column-vector y was passed when a 1d array was expected. Please change the shape of y to (n_samples, ), for example using ravel().\n",
            "  y = column_or_1d(y, warn=True)\n"
          ],
          "name": "stderr"
        }
      ]
    },
    {
      "cell_type": "markdown",
      "metadata": {
        "id": "RT7LyYZdLo9-",
        "colab_type": "text"
      },
      "source": [
        "## Support Vector Machines (SVM)"
      ]
    },
    {
      "cell_type": "code",
      "metadata": {
        "id": "9diXL9TDEmMi",
        "colab_type": "code",
        "outputId": "88bdd53e-7bec-46f4-c445-8bf885242a26",
        "colab": {
          "base_uri": "https://localhost:8080/",
          "height": 318
        }
      },
      "source": [
        "# SVM model\n",
        "svm = SVC(random_state=3)\n",
        "svm.fit(X_train,y_train)\n",
        "y_predictS = svm.predict(X_test)\n",
        "print('Support Vector Machines (SVM) Score for Training set =',svm.score(X_train, y_train))\n",
        "print('Support Vector Machines (SVM) Score for Test set =',svm.score(X_test, y_test))\n",
        "print(metrics.classification_report(y_test, y_predictS))\n",
        "# adding result and label to lists\n",
        "ModelLabels.append(\"SVM\")\n",
        "ModelResults.append(svm.score(X_test,y_test))"
      ],
      "execution_count": 134,
      "outputs": [
        {
          "output_type": "stream",
          "text": [
            "/usr/local/lib/python3.6/dist-packages/sklearn/utils/validation.py:724: DataConversionWarning: A column-vector y was passed when a 1d array was expected. Please change the shape of y to (n_samples, ), for example using ravel().\n",
            "  y = column_or_1d(y, warn=True)\n",
            "/usr/local/lib/python3.6/dist-packages/sklearn/svm/base.py:193: FutureWarning: The default value of gamma will change from 'auto' to 'scale' in version 0.22 to account better for unscaled features. Set gamma explicitly to 'auto' or 'scale' to avoid this warning.\n",
            "  \"avoid this warning.\", FutureWarning)\n"
          ],
          "name": "stderr"
        },
        {
          "output_type": "stream",
          "text": [
            "Support Vector Machines (SVM) Score for Training set = 0.9527601352418871\n",
            "Support Vector Machines (SVM) Score for Test set = 0.8866116189914479\n",
            "              precision    recall  f1-score   support\n",
            "\n",
            "           0       0.89      1.00      0.94     12032\n",
            "           1       0.45      0.02      0.03      1532\n",
            "\n",
            "    accuracy                           0.89     13564\n",
            "   macro avg       0.67      0.51      0.49     13564\n",
            "weighted avg       0.84      0.89      0.84     13564\n",
            "\n"
          ],
          "name": "stdout"
        }
      ]
    },
    {
      "cell_type": "markdown",
      "metadata": {
        "id": "MnV_NQGJLtOO",
        "colab_type": "text"
      },
      "source": [
        "## KNN"
      ]
    },
    {
      "cell_type": "markdown",
      "metadata": {
        "id": "NcGrmSLNi0YL",
        "colab_type": "text"
      },
      "source": [
        "### Determine the optimum K value and plot it"
      ]
    },
    {
      "cell_type": "code",
      "metadata": {
        "id": "UOXFR3l0HZNH",
        "colab_type": "code",
        "outputId": "948bf73e-722f-4d60-8dbd-1dfec619a34d",
        "colab": {
          "base_uri": "https://localhost:8080/",
          "height": 828
        }
      },
      "source": [
        "# Finding optimum k value between 1 and 15\n",
        "score_list = []\n",
        "for each in range(1,15):\n",
        "    knn2 = KNeighborsClassifier(n_neighbors = each) # create a new knn model\n",
        "    knn2.fit(X_train,y_train)\n",
        "    score_list.append(knn2.score(X_test,y_test))\n",
        "\n",
        "plt.plot(range(1,15),score_list) # x axis is in interval of 1 and 15\n",
        "plt.xlabel(\"k values\")\n",
        "plt.ylabel(\"accuracy\")\n",
        "plt.show()"
      ],
      "execution_count": 135,
      "outputs": [
        {
          "output_type": "stream",
          "text": [
            "/usr/local/lib/python3.6/dist-packages/ipykernel_launcher.py:4: DataConversionWarning: A column-vector y was passed when a 1d array was expected. Please change the shape of y to (n_samples, ), for example using ravel().\n",
            "  after removing the cwd from sys.path.\n",
            "/usr/local/lib/python3.6/dist-packages/ipykernel_launcher.py:4: DataConversionWarning: A column-vector y was passed when a 1d array was expected. Please change the shape of y to (n_samples, ), for example using ravel().\n",
            "  after removing the cwd from sys.path.\n",
            "/usr/local/lib/python3.6/dist-packages/ipykernel_launcher.py:4: DataConversionWarning: A column-vector y was passed when a 1d array was expected. Please change the shape of y to (n_samples, ), for example using ravel().\n",
            "  after removing the cwd from sys.path.\n",
            "/usr/local/lib/python3.6/dist-packages/ipykernel_launcher.py:4: DataConversionWarning: A column-vector y was passed when a 1d array was expected. Please change the shape of y to (n_samples, ), for example using ravel().\n",
            "  after removing the cwd from sys.path.\n",
            "/usr/local/lib/python3.6/dist-packages/ipykernel_launcher.py:4: DataConversionWarning: A column-vector y was passed when a 1d array was expected. Please change the shape of y to (n_samples, ), for example using ravel().\n",
            "  after removing the cwd from sys.path.\n",
            "/usr/local/lib/python3.6/dist-packages/ipykernel_launcher.py:4: DataConversionWarning: A column-vector y was passed when a 1d array was expected. Please change the shape of y to (n_samples, ), for example using ravel().\n",
            "  after removing the cwd from sys.path.\n",
            "/usr/local/lib/python3.6/dist-packages/ipykernel_launcher.py:4: DataConversionWarning: A column-vector y was passed when a 1d array was expected. Please change the shape of y to (n_samples, ), for example using ravel().\n",
            "  after removing the cwd from sys.path.\n",
            "/usr/local/lib/python3.6/dist-packages/ipykernel_launcher.py:4: DataConversionWarning: A column-vector y was passed when a 1d array was expected. Please change the shape of y to (n_samples, ), for example using ravel().\n",
            "  after removing the cwd from sys.path.\n",
            "/usr/local/lib/python3.6/dist-packages/ipykernel_launcher.py:4: DataConversionWarning: A column-vector y was passed when a 1d array was expected. Please change the shape of y to (n_samples, ), for example using ravel().\n",
            "  after removing the cwd from sys.path.\n",
            "/usr/local/lib/python3.6/dist-packages/ipykernel_launcher.py:4: DataConversionWarning: A column-vector y was passed when a 1d array was expected. Please change the shape of y to (n_samples, ), for example using ravel().\n",
            "  after removing the cwd from sys.path.\n",
            "/usr/local/lib/python3.6/dist-packages/ipykernel_launcher.py:4: DataConversionWarning: A column-vector y was passed when a 1d array was expected. Please change the shape of y to (n_samples, ), for example using ravel().\n",
            "  after removing the cwd from sys.path.\n",
            "/usr/local/lib/python3.6/dist-packages/ipykernel_launcher.py:4: DataConversionWarning: A column-vector y was passed when a 1d array was expected. Please change the shape of y to (n_samples, ), for example using ravel().\n",
            "  after removing the cwd from sys.path.\n",
            "/usr/local/lib/python3.6/dist-packages/ipykernel_launcher.py:4: DataConversionWarning: A column-vector y was passed when a 1d array was expected. Please change the shape of y to (n_samples, ), for example using ravel().\n",
            "  after removing the cwd from sys.path.\n",
            "/usr/local/lib/python3.6/dist-packages/ipykernel_launcher.py:4: DataConversionWarning: A column-vector y was passed when a 1d array was expected. Please change the shape of y to (n_samples, ), for example using ravel().\n",
            "  after removing the cwd from sys.path.\n"
          ],
          "name": "stderr"
        },
        {
          "output_type": "display_data",
          "data": {
            "image/png": "[encoded data removed]",
            "text/plain": [
              "<Figure size 432x288 with 1 Axes>"
            ]
          },
          "metadata": {
            "tags": []
          }
        }
      ]
    },
    {
      "cell_type": "markdown",
      "metadata": {
        "id": "xTVrGajtiiVV",
        "colab_type": "text"
      },
      "source": [
        "### Run the model for optimum K value and get the prediction."
      ]
    },
    {
      "cell_type": "code",
      "metadata": {
        "id": "67jjdie6FIyf",
        "colab_type": "code",
        "outputId": "8c3c4ba0-0a46-49e2-ccf7-c7abda9d642d",
        "colab": {
          "base_uri": "https://localhost:8080/",
          "height": 299
        }
      },
      "source": [
        "# finding max value in a list and it's index.\n",
        "a = max(score_list) # finding max value in list\n",
        "b = score_list.index(a)+1 # index of max value.\n",
        "print(\"k = \",b,\" and maximum value is \", a)\n",
        "\n",
        "\n",
        "# KNN model\n",
        "knn = KNeighborsClassifier(n_neighbors=b) #n_neighbors = k\n",
        "knn.fit(X_train,y_train)\n",
        "y_predictK = knn.predict(X_test)\n",
        "\n",
        "# score\n",
        "print(\" KNN Score with {} nn for Training set: {} \".format(b,knn.score(X_train,y_train)))\n",
        "print(\" KNN Score with {} nn for Test set: {} \".format(b,knn.score(X_test,y_test)))\n",
        "print(metrics.classification_report(y_test, y_predictK))\n",
        "\n",
        "# adding result and label to lists\n",
        "ModelLabels.append(\"KNN\")\n",
        "ModelResults.append(a)"
      ],
      "execution_count": 136,
      "outputs": [
        {
          "output_type": "stream",
          "text": [
            "k =  14  and maximum value is  0.8863167207313477\n"
          ],
          "name": "stdout"
        },
        {
          "output_type": "stream",
          "text": [
            "/usr/local/lib/python3.6/dist-packages/ipykernel_launcher.py:8: DataConversionWarning: A column-vector y was passed when a 1d array was expected. Please change the shape of y to (n_samples, ), for example using ravel().\n",
            "  \n"
          ],
          "name": "stderr"
        },
        {
          "output_type": "stream",
          "text": [
            " KNN Score with 14 nn for Training set: 0.8819161373905899 \n",
            " KNN Score with 14 nn for Test set: 0.8863167207313477 \n",
            "              precision    recall  f1-score   support\n",
            "\n",
            "           0       0.89      1.00      0.94     12032\n",
            "           1       0.22      0.00      0.01      1532\n",
            "\n",
            "    accuracy                           0.89     13564\n",
            "   macro avg       0.55      0.50      0.47     13564\n",
            "weighted avg       0.81      0.89      0.83     13564\n",
            "\n"
          ],
          "name": "stdout"
        }
      ]
    },
    {
      "cell_type": "markdown",
      "metadata": {
        "id": "f2hN5iikjR1I",
        "colab_type": "text"
      },
      "source": [
        "## Results of the Classification models listed below"
      ]
    },
    {
      "cell_type": "code",
      "metadata": {
        "id": "JuDjgP4PhHa5",
        "colab_type": "code",
        "outputId": "4847f1ca-7f69-48b8-c15c-43261ad82245",
        "colab": {
          "base_uri": "https://localhost:8080/",
          "height": 370
        }
      },
      "source": [
        "Class_models = pd.DataFrame(\n",
        "    {'Model Name': ModelLabels,\n",
        "     'Model Results': ModelResults,\n",
        "    })\n",
        "new_index = (Class_models['Model Results'].sort_values(ascending=False)).index.values \n",
        "Class_models = Class_models.reindex(new_index)\n",
        "fig = plt.figure()\n",
        "fig.suptitle('Scores from Classification and Ensemble Medels')\n",
        "plt.xlabel('Model')\n",
        "plt.ylabel('Score')\n",
        "plt.plot(Class_models.loc[:,\"Model Name\"],Class_models.loc[:,\"Model Results\"],color='green', linestyle='dashed', linewidth = 3, \n",
        "        marker='o', markerfacecolor='blue', markersize=10)\n",
        "plt.xticks(rotation=45)"
      ],
      "execution_count": 137,
      "outputs": [
        {
          "output_type": "execute_result",
          "data": {
            "text/plain": [
              "([0, 1, 2, 3, 4, 5], <a list of 6 Text xticklabel objects>)"
            ]
          },
          "metadata": {
            "tags": []
          },
          "execution_count": 137
        },
        {
          "output_type": "display_data",
          "data": {
            "image/png": "[encoded data removed]",
            "text/plain": [
              "<Figure size 432x288 with 1 Axes>"
            ]
          },
          "metadata": {
            "tags": []
          }
        }
      ]
    },
    {
      "cell_type": "markdown",
      "metadata": {
        "id": "Yw7vQPI_kDOX",
        "colab_type": "text"
      },
      "source": [
        "Observation:  Logistic Regression seems to fair better than all the other models."
      ]
    },
    {
      "cell_type": "markdown",
      "metadata": {
        "id": "REs0ohXtkLni",
        "colab_type": "text"
      },
      "source": [
        "## Ensemble Techniques - ADABoost"
      ]
    },
    {
      "cell_type": "code",
      "metadata": {
        "id": "upr8ZeN_IoJ4",
        "colab_type": "code",
        "outputId": "b73cf27c-7e47-40c0-9d11-23d9f0b43267",
        "colab": {
          "base_uri": "https://localhost:8080/",
          "height": 281
        }
      },
      "source": [
        "# Ensemble Technique - AdaBoost\n",
        "from sklearn.ensemble import AdaBoostClassifier\n",
        "abc1 = AdaBoostClassifier( n_estimators= 100, learning_rate=0.1, random_state=22)\n",
        "abc1 = abc1.fit(X_train, y_train)\n",
        "y_predictAB = abc1.predict(X_test)\n",
        "print('Ensemble AdaBoost Score for Training set =',abc1.score(X_train, y_train))\n",
        "print('Ensemble AdaBoost Score for Test set =',abc1.score(X_test, y_test))\n",
        "print(metrics.classification_report(y_test, y_predictAB))\n",
        "# adding result and label to lists\n",
        "ModelLabels.append(\"En-AdaB\")\n",
        "ModelResults.append(abc1.score(X_test,y_test))"
      ],
      "execution_count": 138,
      "outputs": [
        {
          "output_type": "stream",
          "text": [
            "/usr/local/lib/python3.6/dist-packages/sklearn/utils/validation.py:724: DataConversionWarning: A column-vector y was passed when a 1d array was expected. Please change the shape of y to (n_samples, ), for example using ravel().\n",
            "  y = column_or_1d(y, warn=True)\n"
          ],
          "name": "stderr"
        },
        {
          "output_type": "stream",
          "text": [
            "Ensemble AdaBoost Score for Training set = 0.8812841659556988\n",
            "Ensemble AdaBoost Score for Test set = 0.8872751400766735\n",
            "              precision    recall  f1-score   support\n",
            "\n",
            "           0       0.89      1.00      0.94     12032\n",
            "           1       0.56      0.01      0.02      1532\n",
            "\n",
            "    accuracy                           0.89     13564\n",
            "   macro avg       0.72      0.50      0.48     13564\n",
            "weighted avg       0.85      0.89      0.84     13564\n",
            "\n"
          ],
          "name": "stdout"
        }
      ]
    },
    {
      "cell_type": "markdown",
      "metadata": {
        "id": "KzHBtJFrkTkD",
        "colab_type": "text"
      },
      "source": [
        "## Ensemble Technique - Bagging Classifier"
      ]
    },
    {
      "cell_type": "code",
      "metadata": {
        "id": "OLFG2uN9YcKB",
        "colab_type": "code",
        "outputId": "f383050e-5140-4113-db70-a3b5840c6bcf",
        "colab": {
          "base_uri": "https://localhost:8080/",
          "height": 281
        }
      },
      "source": [
        "# Ensemble Technique - Bagging Clasifier\n",
        "from sklearn.ensemble import BaggingClassifier\n",
        "\n",
        "bgc1 = BaggingClassifier(n_estimators=50, max_samples= .7, bootstrap=True, oob_score=True, random_state=22)\n",
        "bgc1 = bgc1.fit(X_train, y_train)\n",
        "\n",
        "y_predictBG = bgc1.predict(X_test)\n",
        "print('Ensemble Bagging Score for Training set =',bgc1.score(X_train, y_train))\n",
        "print('Ensemble Bagging Score for Test set =',bgc1.score(X_test, y_test))\n",
        "print(metrics.classification_report(y_test, y_predictBG))\n",
        "# adding result and label to lists\n",
        "ModelLabels.append(\"En-Bg\")\n",
        "ModelResults.append(bgc1.score(X_test,y_test))"
      ],
      "execution_count": 139,
      "outputs": [
        {
          "output_type": "stream",
          "text": [
            "/usr/local/lib/python3.6/dist-packages/sklearn/ensemble/bagging.py:623: DataConversionWarning: A column-vector y was passed when a 1d array was expected. Please change the shape of y to (n_samples, ), for example using ravel().\n",
            "  y = column_or_1d(y, warn=True)\n"
          ],
          "name": "stderr"
        },
        {
          "output_type": "stream",
          "text": [
            "Ensemble Bagging Score for Training set = 0.9811356526684993\n",
            "Ensemble Bagging Score for Test set = 0.8816720731347685\n",
            "              precision    recall  f1-score   support\n",
            "\n",
            "           0       0.90      0.97      0.94     12032\n",
            "           1       0.44      0.17      0.25      1532\n",
            "\n",
            "    accuracy                           0.88     13564\n",
            "   macro avg       0.67      0.57      0.59     13564\n",
            "weighted avg       0.85      0.88      0.86     13564\n",
            "\n"
          ],
          "name": "stdout"
        }
      ]
    },
    {
      "cell_type": "markdown",
      "metadata": {
        "id": "DH9mPX3HkZ3A",
        "colab_type": "text"
      },
      "source": [
        "## Ensemble Technique - Gradient Boost"
      ]
    },
    {
      "cell_type": "code",
      "metadata": {
        "id": "jcFFfYw5ZJEY",
        "colab_type": "code",
        "outputId": "a7524e9a-ec43-445b-9723-2d2cc21e02cf",
        "colab": {
          "base_uri": "https://localhost:8080/",
          "height": 281
        }
      },
      "source": [
        "# Ensemble Technique - Gradient Boost\n",
        "from sklearn.ensemble import GradientBoostingClassifier\n",
        "gbc1 = GradientBoostingClassifier(n_estimators = 50, learning_rate = 0.1, random_state=22)\n",
        "gbc1 = gbc1.fit(X_train, y_train)\n",
        "\n",
        "y_predictGB = gbc1.predict(X_test)\n",
        "print('Ensemble Gradient Boost Score for Training set =',gbc1.score(X_train, y_train))\n",
        "print('Ensemble Gradient Boost Score for Test set =',gbc1.score(X_test, y_test))\n",
        "print(metrics.classification_report(y_test, y_predictGB))\n",
        "# adding result and label to lists\n",
        "ModelLabels.append(\"En-GB\")\n",
        "ModelResults.append(gbc1.score(X_test,y_test))"
      ],
      "execution_count": 140,
      "outputs": [
        {
          "output_type": "stream",
          "text": [
            "/usr/local/lib/python3.6/dist-packages/sklearn/ensemble/gradient_boosting.py:1450: DataConversionWarning: A column-vector y was passed when a 1d array was expected. Please change the shape of y to (n_samples, ), for example using ravel().\n",
            "  y = column_or_1d(y, warn=True)\n"
          ],
          "name": "stderr"
        },
        {
          "output_type": "stream",
          "text": [
            "Ensemble Gradient Boost Score for Training set = 0.8853287831390021\n",
            "Ensemble Gradient Boost Score for Test set = 0.8871276909466234\n",
            "              precision    recall  f1-score   support\n",
            "\n",
            "           0       0.89      0.99      0.94     12032\n",
            "           1       0.50      0.08      0.14      1532\n",
            "\n",
            "    accuracy                           0.89     13564\n",
            "   macro avg       0.70      0.54      0.54     13564\n",
            "weighted avg       0.85      0.89      0.85     13564\n",
            "\n"
          ],
          "name": "stdout"
        }
      ]
    },
    {
      "cell_type": "markdown",
      "metadata": {
        "id": "xI6GIZQkMIdv",
        "colab_type": "text"
      },
      "source": [
        "## Plot All the Models"
      ]
    },
    {
      "cell_type": "code",
      "metadata": {
        "id": "ByqCOlF9IFVh",
        "colab_type": "code",
        "outputId": "a96788b4-12e5-48b6-d9b4-76a44e6e1f62",
        "colab": {
          "base_uri": "https://localhost:8080/",
          "height": 370
        }
      },
      "source": [
        "All_models = pd.DataFrame(\n",
        "    {'Model Name': ModelLabels,\n",
        "     'Model Results': ModelResults,\n",
        "    })\n",
        "new_index = (All_models['Model Results'].sort_values(ascending=False)).index.values \n",
        "All_models = All_models.reindex(new_index)\n",
        "fig = plt.figure()\n",
        "fig.suptitle('Scores from Classification and Ensemble Medels')\n",
        "plt.xlabel('Model')\n",
        "plt.ylabel('Score')\n",
        "plt.plot(All_models.loc[:,\"Model Name\"],All_models.loc[:,\"Model Results\"],color='green', linestyle='dashed', linewidth = 3, \n",
        "        marker='o', markerfacecolor='blue', markersize=10)\n",
        "plt.xticks(rotation=45)"
      ],
      "execution_count": 141,
      "outputs": [
        {
          "output_type": "execute_result",
          "data": {
            "text/plain": [
              "([0, 1, 2, 3, 4, 5, 6, 7, 8], <a list of 9 Text xticklabel objects>)"
            ]
          },
          "metadata": {
            "tags": []
          },
          "execution_count": 141
        },
        {
          "output_type": "display_data",
          "data": {
            "image/png": "[encoded data removed]",
            "text/plain": [
              "<Figure size 432x288 with 1 Axes>"
            ]
          },
          "metadata": {
            "tags": []
          }
        }
      ]
    },
    {
      "cell_type": "code",
      "metadata": {
        "id": "kWDO2q7hbYeW",
        "colab_type": "code",
        "colab": {}
      },
      "source": [
        ""
      ],
      "execution_count": 0,
      "outputs": []
    }
  ]
}