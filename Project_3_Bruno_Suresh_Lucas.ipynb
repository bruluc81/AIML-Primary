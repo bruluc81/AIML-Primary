{
  "nbformat": 4,
  "nbformat_minor": 0,
  "metadata": {
    "colab": {
      "name": "Project 3 - Bruno Suresh Lucas.ipynb",
      "provenance": [],
      "include_colab_link": true
    },
    "kernelspec": {
      "name": "python3",
      "display_name": "Python 3"
    }
  },
  "cells": [
    {
      "cell_type": "markdown",
      "metadata": {
        "id": "view-in-github",
        "colab_type": "text"
      },
      "source": [
        "<a href=\"https://colab.research.google.com/github/bruluc81/AIML-Primary/blob/master/Project_3_Bruno_Suresh_Lucas.ipynb\" target=\"_parent\"><img src=\"https://colab.research.google.com/assets/colab-badge.svg\" alt=\"Open In Colab\"/></a>"
      ]
    },
    {
      "cell_type": "markdown",
      "metadata": {
        "id": "dw2kDGZtqCmh",
        "colab_type": "text"
      },
      "source": [
        "## Project Summary\n",
        "The data is related with direct marketing campaigns of a\n",
        "Portuguese banking institution. The marketing campaigns\n",
        "were based on phone calls. Often, more than one contact to\n",
        "the same client was required, in order to access if the product\n",
        "(bank term deposit) would be ('yes') or not ('no') subscribed."
      ]
    },
    {
      "cell_type": "markdown",
      "metadata": {
        "id": "iINmdf8Xp7BB",
        "colab_type": "text"
      },
      "source": [
        "## Visual Data Analysis using Excel\n",
        "1. 45211 rows and 11 columns with the last column as Target Variable. \n",
        "2. Age: Age ranges from 18 to 95 years.  There are no null values\n",
        "3. Job: 12 Job descriptions given including unknown (288 entries).\n",
        "4. Marital: 3 Marital status with Divorced which includes widowed.\n",
        "5. Education: 4 education categories with1857 categorized as unknown\n",
        "6. Default: 815 Credit defaulters with no null values\n",
        "7. Balance: Balance ranges from approx -8K to +100K \n",
        "8. Housing and Loan: Around 55% of the respondents have taken housing loan and 15% have taken personal loan.\n",
        "9. Day / Month / Duration: Contact details are either Cellular or Telephone. Around 13K records are marked as unknown.  Date and month are added as seperate columns.\n",
        "10.  Duration: Duration of the call ranges from 0 secs to 1 hour.\n",
        "11.  Campaign: Number contacts performed ranges from 1 thru 63 contacts per respondent.\n",
        "12.  pDays: Values ranges from -1 thru 850.  There are 12K records of -1 which seems to be incorrect as this is related to number of days that have passed by.  Need to check this.\n",
        "13. Previous:  Prior contacts for other campaigns ranges from 0 to 275 with 275 as a single entry.\n",
        "14. POutcome: 82% of previous outcome is unknown.\n",
        "15. Target:  Around 73% of the respondednt did not take the term deposit."
      ]
    },
    {
      "cell_type": "code",
      "metadata": {
        "id": "XW4dPFnLzCvk",
        "colab_type": "code",
        "colab": {}
      },
      "source": [
        "#from google.colab import files\n",
        "#uploaded = files.upload()\n",
        "URL = 'https://raw.githubusercontent.com/bruluc81/AIML-Primary/master/Bank_Personal_Loan_Modelling.csv'\n",
        "loan_df = pd.read_csv(URL)"
      ],
      "execution_count": 0,
      "outputs": []
    }
  ]
}