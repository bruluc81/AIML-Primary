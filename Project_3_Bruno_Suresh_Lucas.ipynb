{
  "nbformat": 4,
  "nbformat_minor": 0,
  "metadata": {
    "colab": {
      "name": "Project 3 - Bruno Suresh Lucas.ipynb",
      "provenance": [],
      "collapsed_sections": [],
      "include_colab_link": true
    },
    "kernelspec": {
      "name": "python3",
      "display_name": "Python 3"
    }
  },
  "cells": [
    {
      "cell_type": "markdown",
      "metadata": {
        "id": "view-in-github",
        "colab_type": "text"
      },
      "source": [
        "<a href=\"https://colab.research.google.com/github/bruluc81/AIML-Primary/blob/master/Project_3_Bruno_Suresh_Lucas.ipynb\" target=\"_parent\"><img src=\"https://colab.research.google.com/assets/colab-badge.svg\" alt=\"Open In Colab\"/></a>"
      ]
    },
    {
      "cell_type": "markdown",
      "metadata": {
        "id": "dw2kDGZtqCmh",
        "colab_type": "text"
      },
      "source": [
        "## Project Summary\n",
        "The data is related with direct marketing campaigns of a\n",
        "Portuguese banking institution. The marketing campaigns\n",
        "were based on phone calls. Often, more than one contact to\n",
        "the same client was required, in order to access if the product\n",
        "(bank term deposit) would be ('yes') or not ('no') subscribed."
      ]
    },
    {
      "cell_type": "code",
      "metadata": {
        "id": "DgZujmd5trIV",
        "colab_type": "code",
        "colab": {}
      },
      "source": [
        ""
      ],
      "execution_count": 0,
      "outputs": []
    },
    {
      "cell_type": "markdown",
      "metadata": {
        "id": "iINmdf8Xp7BB",
        "colab_type": "text"
      },
      "source": [
        "## Visual Data Analysis using Excel\n",
        "1. 45211 rows and 17 columns with the last column as Target Variable. \n",
        "2. Age: Age ranges from 18 to 95 years.  There are no null values\n",
        "3. Job: 12 Job descriptions given including unknown (288 entries).\n",
        "4. Marital: 3 Marital status with Divorced which includes widowed.\n",
        "5. Education: 4 education categories with1857 categorized as unknown\n",
        "6. Default: Yes/No Type. 815 Credit defaulters with no null values\n",
        "7. Balance: Balance ranges from approx -8K to +100K \n",
        "8. Housing and Loan: Yes/No Type. Around 55% of the respondents have taken housing loan and 15% have taken personal loan.\n",
        "9. Day / Month / Duration: Contact details are either Cellular or Telephone. Around 13K records are marked as unknown.  Date and month are added as seperate columns.\n",
        "10.  Duration: Duration of the call ranges from 0 secs to 1 hour.\n",
        "11.  Campaign: Number of contacts performed ranges from 1 thru 63 contacts per respondent.\n",
        "12.  pDays: Values ranges from -1 thru 850.  There are 12K records of -1 which seems to be incorrect as this is related to number of days that have passed by.  Need to check this.\n",
        "13. Previous:  Prior contacts for other campaigns ranges from 0 to 275 with 275 as a single entry.\n",
        "14. POutcome: 82% of previous outcome is unknown.\n",
        "15. Target:  Yes/No Type. Around 73% of the respondednt did not take the term deposit."
      ]
    },
    {
      "cell_type": "markdown",
      "metadata": {
        "id": "DMusTYMzF9xs",
        "colab_type": "text"
      },
      "source": [
        "## 1. Import the necessary libraries"
      ]
    },
    {
      "cell_type": "code",
      "metadata": {
        "id": "cbp87sRy3Bco",
        "colab_type": "code",
        "colab": {}
      },
      "source": [
        "# Display Plots or Graphs as required immediately without show() function. \n",
        "%matplotlib inline \n",
        "import numpy as np\n",
        "import pandas as pd\n",
        "import matplotlib.pyplot as plt\n",
        "\n",
        "from sklearn.linear_model import LogisticRegression # Import Logistics Regression machine learning library\n",
        "from sklearn.utils import resample # for resampling in case of down / up sampling requirements\n",
        "from sklearn.model_selection import train_test_split # Used to split the data into Training and Testing split\n",
        "from sklearn.neighbors import KNeighborsClassifier #Importing KNN Classifiers \n",
        "from sklearn import metrics # calculate accuracy measures and confusion matrix\n",
        "from sklearn.naive_bayes import GaussianNB # Naive Bayes package from the Library\n",
        "from sklearn.ensemble import RandomForestClassifier # Random Forest Package\n",
        "from sklearn.svm import SVC # Support Vector Classifier Package\n",
        "from sklearn.metrics import roc_curve, auc # to measure the optimal method\n",
        "from sklearn.metrics import roc_auc_score # to get the ROC AUC score\n",
        "from sklearn import preprocessing\n",
        "import seaborn as sns"
      ],
      "execution_count": 0,
      "outputs": []
    },
    {
      "cell_type": "markdown",
      "metadata": {
        "id": "5rnqaOzWGKpl",
        "colab_type": "text"
      },
      "source": [
        "## 2. Load the Dataset from the CSV file and create a DataFrame"
      ]
    },
    {
      "cell_type": "code",
      "metadata": {
        "id": "XW4dPFnLzCvk",
        "colab_type": "code",
        "colab": {}
      },
      "source": [
        "URL = 'https://raw.githubusercontent.com/bruluc81/AIML-Primary/master/bank-full.csv' \n",
        "df_loan = pd.read_csv('https://raw.githubusercontent.com/bruluc81/AIML-Primary/master/bank-full.csv') #Importing CSV file onto a DataFrame"
      ],
      "execution_count": 0,
      "outputs": []
    },
    {
      "cell_type": "markdown",
      "metadata": {
        "id": "Ivo_dQJxVkg9",
        "colab_type": "text"
      },
      "source": [
        "## 3. Perform basic EDA which should include the following and print out your insights at every step."
      ]
    },
    {
      "cell_type": "markdown",
      "metadata": {
        "id": "3bzEDrWRVRTn",
        "colab_type": "text"
      },
      "source": [
        "### 3a / 3b / 3c. Shape of the data / datatype / Missing values"
      ]
    },
    {
      "cell_type": "code",
      "metadata": {
        "id": "05lpR8m7VE-y",
        "colab_type": "code",
        "outputId": "92bd95c9-a79e-400c-87f6-a9fb88ea4708",
        "colab": {
          "base_uri": "https://localhost:8080/",
          "height": 421
        }
      },
      "source": [
        "df_loan.info()                                                                    #Display the Datatypes of the variables and confirm if there are null values."
      ],
      "execution_count": 31,
      "outputs": [
        {
          "output_type": "stream",
          "text": [
            "<class 'pandas.core.frame.DataFrame'>\n",
            "RangeIndex: 45211 entries, 0 to 45210\n",
            "Data columns (total 17 columns):\n",
            "age          45211 non-null int64\n",
            "job          45211 non-null object\n",
            "marital      45211 non-null object\n",
            "education    45211 non-null object\n",
            "default      45211 non-null object\n",
            "balance      45211 non-null int64\n",
            "housing      45211 non-null object\n",
            "loan         45211 non-null object\n",
            "contact      45211 non-null object\n",
            "day          45211 non-null int64\n",
            "month        45211 non-null object\n",
            "duration     45211 non-null int64\n",
            "campaign     45211 non-null int64\n",
            "pdays        45211 non-null int64\n",
            "previous     45211 non-null int64\n",
            "poutcome     45211 non-null object\n",
            "Target       45211 non-null object\n",
            "dtypes: int64(7), object(10)\n",
            "memory usage: 5.9+ MB\n"
          ],
          "name": "stdout"
        }
      ]
    },
    {
      "cell_type": "markdown",
      "metadata": {
        "id": "o-BPUih0GVbQ",
        "colab_type": "text"
      },
      "source": [
        "Observation:  There is a total of 45K records with 17 columns.  INT and OBJECT are the two data types. There are no null values in the dataset.  Therefore no missing values. Value Counts on each of the columns might be required to understand the data spread."
      ]
    },
    {
      "cell_type": "code",
      "metadata": {
        "id": "XjRWsaOG3d4a",
        "colab_type": "code",
        "outputId": "8ebdbded-cf00-483a-8315-7f6cb93fff4a",
        "colab": {
          "base_uri": "https://localhost:8080/",
          "height": 206
        }
      },
      "source": [
        "df_loan.head()                                                                  # Display the first 5 rows to check the data      "
      ],
      "execution_count": 32,
      "outputs": [
        {
          "output_type": "execute_result",
          "data": {
            "text/html": [
              "<div>\n",
              "<style scoped>\n",
              "    .dataframe tbody tr th:only-of-type {\n",
              "        vertical-align: middle;\n",
              "    }\n",
              "\n",
              "    .dataframe tbody tr th {\n",
              "        vertical-align: top;\n",
              "    }\n",
              "\n",
              "    .dataframe thead th {\n",
              "        text-align: right;\n",
              "    }\n",
              "</style>\n",
              "<table border=\"1\" class=\"dataframe\">\n",
              "  <thead>\n",
              "    <tr style=\"text-align: right;\">\n",
              "      <th></th>\n",
              "      <th>age</th>\n",
              "      <th>job</th>\n",
              "      <th>marital</th>\n",
              "      <th>education</th>\n",
              "      <th>default</th>\n",
              "      <th>balance</th>\n",
              "      <th>housing</th>\n",
              "      <th>loan</th>\n",
              "      <th>contact</th>\n",
              "      <th>day</th>\n",
              "      <th>month</th>\n",
              "      <th>duration</th>\n",
              "      <th>campaign</th>\n",
              "      <th>pdays</th>\n",
              "      <th>previous</th>\n",
              "      <th>poutcome</th>\n",
              "      <th>Target</th>\n",
              "    </tr>\n",
              "  </thead>\n",
              "  <tbody>\n",
              "    <tr>\n",
              "      <th>0</th>\n",
              "      <td>58</td>\n",
              "      <td>management</td>\n",
              "      <td>married</td>\n",
              "      <td>tertiary</td>\n",
              "      <td>no</td>\n",
              "      <td>2143</td>\n",
              "      <td>yes</td>\n",
              "      <td>no</td>\n",
              "      <td>unknown</td>\n",
              "      <td>5</td>\n",
              "      <td>may</td>\n",
              "      <td>261</td>\n",
              "      <td>1</td>\n",
              "      <td>-1</td>\n",
              "      <td>0</td>\n",
              "      <td>unknown</td>\n",
              "      <td>no</td>\n",
              "    </tr>\n",
              "    <tr>\n",
              "      <th>1</th>\n",
              "      <td>44</td>\n",
              "      <td>technician</td>\n",
              "      <td>single</td>\n",
              "      <td>secondary</td>\n",
              "      <td>no</td>\n",
              "      <td>29</td>\n",
              "      <td>yes</td>\n",
              "      <td>no</td>\n",
              "      <td>unknown</td>\n",
              "      <td>5</td>\n",
              "      <td>may</td>\n",
              "      <td>151</td>\n",
              "      <td>1</td>\n",
              "      <td>-1</td>\n",
              "      <td>0</td>\n",
              "      <td>unknown</td>\n",
              "      <td>no</td>\n",
              "    </tr>\n",
              "    <tr>\n",
              "      <th>2</th>\n",
              "      <td>33</td>\n",
              "      <td>entrepreneur</td>\n",
              "      <td>married</td>\n",
              "      <td>secondary</td>\n",
              "      <td>no</td>\n",
              "      <td>2</td>\n",
              "      <td>yes</td>\n",
              "      <td>yes</td>\n",
              "      <td>unknown</td>\n",
              "      <td>5</td>\n",
              "      <td>may</td>\n",
              "      <td>76</td>\n",
              "      <td>1</td>\n",
              "      <td>-1</td>\n",
              "      <td>0</td>\n",
              "      <td>unknown</td>\n",
              "      <td>no</td>\n",
              "    </tr>\n",
              "    <tr>\n",
              "      <th>3</th>\n",
              "      <td>47</td>\n",
              "      <td>blue-collar</td>\n",
              "      <td>married</td>\n",
              "      <td>unknown</td>\n",
              "      <td>no</td>\n",
              "      <td>1506</td>\n",
              "      <td>yes</td>\n",
              "      <td>no</td>\n",
              "      <td>unknown</td>\n",
              "      <td>5</td>\n",
              "      <td>may</td>\n",
              "      <td>92</td>\n",
              "      <td>1</td>\n",
              "      <td>-1</td>\n",
              "      <td>0</td>\n",
              "      <td>unknown</td>\n",
              "      <td>no</td>\n",
              "    </tr>\n",
              "    <tr>\n",
              "      <th>4</th>\n",
              "      <td>33</td>\n",
              "      <td>unknown</td>\n",
              "      <td>single</td>\n",
              "      <td>unknown</td>\n",
              "      <td>no</td>\n",
              "      <td>1</td>\n",
              "      <td>no</td>\n",
              "      <td>no</td>\n",
              "      <td>unknown</td>\n",
              "      <td>5</td>\n",
              "      <td>may</td>\n",
              "      <td>198</td>\n",
              "      <td>1</td>\n",
              "      <td>-1</td>\n",
              "      <td>0</td>\n",
              "      <td>unknown</td>\n",
              "      <td>no</td>\n",
              "    </tr>\n",
              "  </tbody>\n",
              "</table>\n",
              "</div>"
            ],
            "text/plain": [
              "   age           job  marital  education  ... pdays  previous poutcome Target\n",
              "0   58    management  married   tertiary  ...    -1         0  unknown     no\n",
              "1   44    technician   single  secondary  ...    -1         0  unknown     no\n",
              "2   33  entrepreneur  married  secondary  ...    -1         0  unknown     no\n",
              "3   47   blue-collar  married    unknown  ...    -1         0  unknown     no\n",
              "4   33       unknown   single    unknown  ...    -1         0  unknown     no\n",
              "\n",
              "[5 rows x 17 columns]"
            ]
          },
          "metadata": {
            "tags": []
          },
          "execution_count": 32
        }
      ]
    },
    {
      "cell_type": "markdown",
      "metadata": {
        "id": "bsNYOpqiariA",
        "colab_type": "text"
      },
      "source": [
        "### 3d. 5 point summary of numerical attributes"
      ]
    },
    {
      "cell_type": "code",
      "metadata": {
        "id": "9_WDFHr1c5L1",
        "colab_type": "code",
        "outputId": "f7495807-d2a2-4977-db60-b0ca21027334",
        "colab": {
          "base_uri": "https://localhost:8080/",
          "height": 206
        }
      },
      "source": [
        "from numpy import percentile\n",
        "#Prepare 5 Point Summary for Age\n",
        "age = df_loan['age']\n",
        "balance = df_loan['balance']\n",
        "duration = df_loan['duration']\n",
        "camp= df_loan['campaign']\n",
        "pcamp=df_loan['previous']\n",
        "\n",
        "# calculate quartiles\n",
        "age_quart = percentile(age, [25, 50, 75])\n",
        "balance_quart = percentile(balance, [25, 50, 75])\n",
        "duration_quart = percentile(duration, [25, 50, 75])\n",
        "camp_quart = percentile(camp, [25, 50, 75])\n",
        "pcamp_quart = percentile(pcamp, [25, 50, 75])\n",
        "\n",
        "# calculate min/max\n",
        "age_min, age_max = age.min(), age.max()\n",
        "balance_min, balance_max = balance.min(), balance.max()\n",
        "duration_min, duration_max = duration.min(), duration.max()\n",
        "camp_min, camp_max = camp.min(), camp.max()\n",
        "pcamp_min, pcamp_max = pcamp.min(), pcamp.max()\n",
        "\n",
        "# create a DataFrame of the values\n",
        "FivePt = pd.DataFrame({'Attri':['age','balance','duration','campaign','prev campaign'],\n",
        "                       'Min':[age_min,balance_min,duration_min,camp_min,pcamp_min],\n",
        "                       'Max':[age_max,balance_max,duration_max,camp_max,pcamp_max],\n",
        "                      'Q1':[age_quart[0],balance_quart[0],duration_quart[0],camp_quart[0],pcamp_quart[0]],\n",
        "                      'Median':[age_quart[1],balance_quart[1],duration_quart[1],camp_quart[1],pcamp_quart[1]],\n",
        "                      'Q3':[age_quart[2],balance_quart[2],duration_quart[2],camp_quart[2],pcamp_quart[2]]})\n",
        "FivePt.head()"
      ],
      "execution_count": 33,
      "outputs": [
        {
          "output_type": "execute_result",
          "data": {
            "text/html": [
              "<div>\n",
              "<style scoped>\n",
              "    .dataframe tbody tr th:only-of-type {\n",
              "        vertical-align: middle;\n",
              "    }\n",
              "\n",
              "    .dataframe tbody tr th {\n",
              "        vertical-align: top;\n",
              "    }\n",
              "\n",
              "    .dataframe thead th {\n",
              "        text-align: right;\n",
              "    }\n",
              "</style>\n",
              "<table border=\"1\" class=\"dataframe\">\n",
              "  <thead>\n",
              "    <tr style=\"text-align: right;\">\n",
              "      <th></th>\n",
              "      <th>Attri</th>\n",
              "      <th>Min</th>\n",
              "      <th>Max</th>\n",
              "      <th>Q1</th>\n",
              "      <th>Median</th>\n",
              "      <th>Q3</th>\n",
              "    </tr>\n",
              "  </thead>\n",
              "  <tbody>\n",
              "    <tr>\n",
              "      <th>0</th>\n",
              "      <td>age</td>\n",
              "      <td>18</td>\n",
              "      <td>95</td>\n",
              "      <td>33.0</td>\n",
              "      <td>39.0</td>\n",
              "      <td>48.0</td>\n",
              "    </tr>\n",
              "    <tr>\n",
              "      <th>1</th>\n",
              "      <td>balance</td>\n",
              "      <td>-8019</td>\n",
              "      <td>102127</td>\n",
              "      <td>72.0</td>\n",
              "      <td>448.0</td>\n",
              "      <td>1428.0</td>\n",
              "    </tr>\n",
              "    <tr>\n",
              "      <th>2</th>\n",
              "      <td>duration</td>\n",
              "      <td>0</td>\n",
              "      <td>4918</td>\n",
              "      <td>103.0</td>\n",
              "      <td>180.0</td>\n",
              "      <td>319.0</td>\n",
              "    </tr>\n",
              "    <tr>\n",
              "      <th>3</th>\n",
              "      <td>campaign</td>\n",
              "      <td>1</td>\n",
              "      <td>63</td>\n",
              "      <td>1.0</td>\n",
              "      <td>2.0</td>\n",
              "      <td>3.0</td>\n",
              "    </tr>\n",
              "    <tr>\n",
              "      <th>4</th>\n",
              "      <td>prev campaign</td>\n",
              "      <td>0</td>\n",
              "      <td>275</td>\n",
              "      <td>0.0</td>\n",
              "      <td>0.0</td>\n",
              "      <td>0.0</td>\n",
              "    </tr>\n",
              "  </tbody>\n",
              "</table>\n",
              "</div>"
            ],
            "text/plain": [
              "           Attri   Min     Max     Q1  Median      Q3\n",
              "0            age    18      95   33.0    39.0    48.0\n",
              "1        balance -8019  102127   72.0   448.0  1428.0\n",
              "2       duration     0    4918  103.0   180.0   319.0\n",
              "3       campaign     1      63    1.0     2.0     3.0\n",
              "4  prev campaign     0     275    0.0     0.0     0.0"
            ]
          },
          "metadata": {
            "tags": []
          },
          "execution_count": 33
        }
      ]
    },
    {
      "cell_type": "markdown",
      "metadata": {
        "id": "TR1LuAnanD5B",
        "colab_type": "text"
      },
      "source": [
        "Observation: The data seems to be not normal and we can see a high degree of skewness.  This is primarily due to outliers which we will discuss below."
      ]
    },
    {
      "cell_type": "markdown",
      "metadata": {
        "id": "7XvcksexzS-Q",
        "colab_type": "text"
      },
      "source": [
        "### 3e. Checking the presence of outliers"
      ]
    },
    {
      "cell_type": "code",
      "metadata": {
        "id": "Pg0gEbbFaqJW",
        "colab_type": "code",
        "outputId": "9af5303a-e6a8-4c33-f83f-30dbc1a3dbcc",
        "colab": {
          "base_uri": "https://localhost:8080/",
          "height": 206
        }
      },
      "source": [
        "# Identify the first and Third quartile of Age and determine IQR to understand the ouliers.\n",
        "a1,a3 = np.percentile(age, [25, 75])\n",
        "age_iqr = a3-a1\n",
        "age_iqrl = a1 -(1.5 * (a3-a1))\n",
        "age_iqrb = a3 +(1.5 * (a3-a1))\n",
        "\n",
        "# Identify the first and Third quartile of Credit Balance and determine IQR to understand the ouliers.\n",
        "b1,b3 = np.percentile(balance, [25, 75])\n",
        "balance_iqr = b3-b1\n",
        "balance_iqrl = b1 -(1.5 * (b3-b1))\n",
        "balance_iqrb = b3 +(1.5 * (b3-b1))\n",
        "\n",
        "# Identify the first and Third quartile of Call Duration and determine IQR to understand the ouliers.\n",
        "c1,c3 = np.percentile(duration, [25, 75])\n",
        "duration_iqr = c3-c1\n",
        "duration_iqrl = c1 -(1.5 * (c3-c1))\n",
        "duration_iqrb = c3 +(1.5 * (c3-c1))\n",
        "\n",
        "# Identify the first and Third quartile of Call Duration and determine IQR to understand the ouliers.\n",
        "d1,d3 = np.percentile(camp, [25, 75])\n",
        "camp_iqr = d3-d1\n",
        "camp_iqrl = d1 -(1.5 * (d3-d1))\n",
        "camp_iqrb = d3 +(1.5 * (d3-d1))\n",
        "\n",
        "# Identify the first and Third quartile of Call Duration and determine IQR to understand the ouliers.\n",
        "e1,e3 = np.percentile(pcamp, [25, 75])\n",
        "pcamp_iqr = e3-e1\n",
        "pcamp_iqrl = e1 -(1.5 * (e3-e1))\n",
        "pcamp_iqrb = e3 +(1.5 * (e3-e1))\n",
        "\n",
        "\n",
        "age_out = (df_loan[df_loan['age'].le(age_quart[0])], df_loan[df_loan['age'].ge(age_quart[2])])\n",
        "balance_out = (df_loan[df_loan['balance'].le(balance_quart[0])], df_loan[df_loan['balance'].ge(balance_quart[2])])\n",
        "duration_out = (df_loan[df_loan['duration'].le(duration_quart[0])], df_loan[df_loan['duration'].ge(duration_quart[2])])\n",
        "camp_out = (df_loan[df_loan['campaign'].le(camp_quart[0])], df_loan[df_loan['campaign'].ge(camp_quart[2])])\n",
        "pcamp_out = (df_loan[df_loan['previous'].le(pcamp_quart[0])], df_loan[df_loan['previous'].ge(pcamp_quart[2])])\n",
        "\n",
        "#Prepare a Dataframe with the results to document the outliers\n",
        "Outliers = pd.DataFrame({'Attri':['age','balance','duration','campaign','prev campaign'],\n",
        "                       'Q1':[a1,b1,c1,d1,e1],\n",
        "                       'Q3':[a3,b3,c3,d1,e1],\n",
        "                      'IQR':[age_iqr,balance_iqr,duration_iqr,camp_iqr,pcamp_iqr],\n",
        "                      'Lowerbound':[age_iqrl,balance_iqrl,duration_iqrl,camp_iqrl,pcamp_iqrl],\n",
        "                      'Upperbound':[age_iqrb,balance_iqrb,duration_iqrb,camp_iqrb,pcamp_iqrb],\n",
        "                        'Count of Outliers':[len(age_out[0]),len(balance_out[0]),len(duration_out[0]),len(camp_out[0]),len(pcamp_out[0])]})\n",
        "Outliers.head()"
      ],
      "execution_count": 34,
      "outputs": [
        {
          "output_type": "execute_result",
          "data": {
            "text/html": [
              "<div>\n",
              "<style scoped>\n",
              "    .dataframe tbody tr th:only-of-type {\n",
              "        vertical-align: middle;\n",
              "    }\n",
              "\n",
              "    .dataframe tbody tr th {\n",
              "        vertical-align: top;\n",
              "    }\n",
              "\n",
              "    .dataframe thead th {\n",
              "        text-align: right;\n",
              "    }\n",
              "</style>\n",
              "<table border=\"1\" class=\"dataframe\">\n",
              "  <thead>\n",
              "    <tr style=\"text-align: right;\">\n",
              "      <th></th>\n",
              "      <th>Attri</th>\n",
              "      <th>Q1</th>\n",
              "      <th>Q3</th>\n",
              "      <th>IQR</th>\n",
              "      <th>Lowerbound</th>\n",
              "      <th>Upperbound</th>\n",
              "      <th>Count of Outliers</th>\n",
              "    </tr>\n",
              "  </thead>\n",
              "  <tbody>\n",
              "    <tr>\n",
              "      <th>0</th>\n",
              "      <td>age</td>\n",
              "      <td>33.0</td>\n",
              "      <td>48.0</td>\n",
              "      <td>15.0</td>\n",
              "      <td>10.5</td>\n",
              "      <td>70.5</td>\n",
              "      <td>13083</td>\n",
              "    </tr>\n",
              "    <tr>\n",
              "      <th>1</th>\n",
              "      <td>balance</td>\n",
              "      <td>72.0</td>\n",
              "      <td>1428.0</td>\n",
              "      <td>1356.0</td>\n",
              "      <td>-1962.0</td>\n",
              "      <td>3462.0</td>\n",
              "      <td>11317</td>\n",
              "    </tr>\n",
              "    <tr>\n",
              "      <th>2</th>\n",
              "      <td>duration</td>\n",
              "      <td>103.0</td>\n",
              "      <td>319.0</td>\n",
              "      <td>216.0</td>\n",
              "      <td>-221.0</td>\n",
              "      <td>643.0</td>\n",
              "      <td>11375</td>\n",
              "    </tr>\n",
              "    <tr>\n",
              "      <th>3</th>\n",
              "      <td>campaign</td>\n",
              "      <td>1.0</td>\n",
              "      <td>1.0</td>\n",
              "      <td>2.0</td>\n",
              "      <td>-2.0</td>\n",
              "      <td>6.0</td>\n",
              "      <td>17544</td>\n",
              "    </tr>\n",
              "    <tr>\n",
              "      <th>4</th>\n",
              "      <td>prev campaign</td>\n",
              "      <td>0.0</td>\n",
              "      <td>0.0</td>\n",
              "      <td>0.0</td>\n",
              "      <td>0.0</td>\n",
              "      <td>0.0</td>\n",
              "      <td>36954</td>\n",
              "    </tr>\n",
              "  </tbody>\n",
              "</table>\n",
              "</div>"
            ],
            "text/plain": [
              "           Attri     Q1      Q3  ...  Lowerbound  Upperbound  Count of Outliers\n",
              "0            age   33.0    48.0  ...        10.5        70.5              13083\n",
              "1        balance   72.0  1428.0  ...     -1962.0      3462.0              11317\n",
              "2       duration  103.0   319.0  ...      -221.0       643.0              11375\n",
              "3       campaign    1.0     1.0  ...        -2.0         6.0              17544\n",
              "4  prev campaign    0.0     0.0  ...         0.0         0.0              36954\n",
              "\n",
              "[5 rows x 7 columns]"
            ]
          },
          "metadata": {
            "tags": []
          },
          "execution_count": 34
        }
      ]
    },
    {
      "cell_type": "markdown",
      "metadata": {
        "id": "DYeHyQtut3lZ",
        "colab_type": "text"
      },
      "source": [
        "The Outlier analysis seems to be at a high rate.  Normalizing the data is required due to high degree of skewness."
      ]
    },
    {
      "cell_type": "markdown",
      "metadata": {
        "id": "cT_6qpUSzhU0",
        "colab_type": "text"
      },
      "source": [
        "## 4. Prepare the data to train a model – check if data types are appropriate, get rid of the missing values etc"
      ]
    },
    {
      "cell_type": "code",
      "metadata": {
        "id": "LhjtPjBaFs_b",
        "colab_type": "code",
        "outputId": "c5de37b5-dfd1-4039-f27f-6868e1c34c92",
        "colab": {
          "base_uri": "https://localhost:8080/",
          "height": 457
        }
      },
      "source": [
        "df_loan.describe().T # Describe function just displays the continuos variables.\n"
      ],
      "execution_count": 44,
      "outputs": [
        {
          "output_type": "execute_result",
          "data": {
            "text/html": [
              "<div>\n",
              "<style scoped>\n",
              "    .dataframe tbody tr th:only-of-type {\n",
              "        vertical-align: middle;\n",
              "    }\n",
              "\n",
              "    .dataframe tbody tr th {\n",
              "        vertical-align: top;\n",
              "    }\n",
              "\n",
              "    .dataframe thead th {\n",
              "        text-align: right;\n",
              "    }\n",
              "</style>\n",
              "<table border=\"1\" class=\"dataframe\">\n",
              "  <thead>\n",
              "    <tr style=\"text-align: right;\">\n",
              "      <th></th>\n",
              "      <th>count</th>\n",
              "      <th>mean</th>\n",
              "      <th>std</th>\n",
              "      <th>min</th>\n",
              "      <th>25%</th>\n",
              "      <th>50%</th>\n",
              "      <th>75%</th>\n",
              "      <th>max</th>\n",
              "    </tr>\n",
              "  </thead>\n",
              "  <tbody>\n",
              "    <tr>\n",
              "      <th>age</th>\n",
              "      <td>45211.0</td>\n",
              "      <td>33.639468</td>\n",
              "      <td>18.082150</td>\n",
              "      <td>1.0</td>\n",
              "      <td>28.0</td>\n",
              "      <td>36.0</td>\n",
              "      <td>46.0</td>\n",
              "      <td>95.0</td>\n",
              "    </tr>\n",
              "    <tr>\n",
              "      <th>job</th>\n",
              "      <td>45211.0</td>\n",
              "      <td>4.553980</td>\n",
              "      <td>3.478575</td>\n",
              "      <td>1.0</td>\n",
              "      <td>1.0</td>\n",
              "      <td>4.0</td>\n",
              "      <td>7.0</td>\n",
              "      <td>12.0</td>\n",
              "    </tr>\n",
              "    <tr>\n",
              "      <th>marital</th>\n",
              "      <td>45211.0</td>\n",
              "      <td>1.414965</td>\n",
              "      <td>0.657219</td>\n",
              "      <td>1.0</td>\n",
              "      <td>1.0</td>\n",
              "      <td>1.0</td>\n",
              "      <td>2.0</td>\n",
              "      <td>3.0</td>\n",
              "    </tr>\n",
              "    <tr>\n",
              "      <th>education</th>\n",
              "      <td>45211.0</td>\n",
              "      <td>1.991617</td>\n",
              "      <td>0.826216</td>\n",
              "      <td>1.0</td>\n",
              "      <td>1.0</td>\n",
              "      <td>2.0</td>\n",
              "      <td>3.0</td>\n",
              "      <td>4.0</td>\n",
              "    </tr>\n",
              "    <tr>\n",
              "      <th>default</th>\n",
              "      <td>45211.0</td>\n",
              "      <td>0.199398</td>\n",
              "      <td>0.399552</td>\n",
              "      <td>0.0</td>\n",
              "      <td>0.0</td>\n",
              "      <td>0.0</td>\n",
              "      <td>0.0</td>\n",
              "      <td>1.0</td>\n",
              "    </tr>\n",
              "    <tr>\n",
              "      <th>balance</th>\n",
              "      <td>45211.0</td>\n",
              "      <td>1078.117715</td>\n",
              "      <td>2794.777565</td>\n",
              "      <td>-8019.0</td>\n",
              "      <td>1.0</td>\n",
              "      <td>226.0</td>\n",
              "      <td>1029.5</td>\n",
              "      <td>102127.0</td>\n",
              "    </tr>\n",
              "    <tr>\n",
              "      <th>housing</th>\n",
              "      <td>45211.0</td>\n",
              "      <td>0.624737</td>\n",
              "      <td>0.484196</td>\n",
              "      <td>0.0</td>\n",
              "      <td>0.0</td>\n",
              "      <td>1.0</td>\n",
              "      <td>1.0</td>\n",
              "      <td>1.0</td>\n",
              "    </tr>\n",
              "    <tr>\n",
              "      <th>loan</th>\n",
              "      <td>45211.0</td>\n",
              "      <td>0.318020</td>\n",
              "      <td>0.465712</td>\n",
              "      <td>0.0</td>\n",
              "      <td>0.0</td>\n",
              "      <td>0.0</td>\n",
              "      <td>1.0</td>\n",
              "      <td>1.0</td>\n",
              "    </tr>\n",
              "    <tr>\n",
              "      <th>month</th>\n",
              "      <td>45211.0</td>\n",
              "      <td>5.261883</td>\n",
              "      <td>2.843143</td>\n",
              "      <td>1.0</td>\n",
              "      <td>4.0</td>\n",
              "      <td>5.0</td>\n",
              "      <td>7.0</td>\n",
              "      <td>12.0</td>\n",
              "    </tr>\n",
              "    <tr>\n",
              "      <th>duration</th>\n",
              "      <td>45211.0</td>\n",
              "      <td>210.839574</td>\n",
              "      <td>257.013300</td>\n",
              "      <td>0.0</td>\n",
              "      <td>50.0</td>\n",
              "      <td>140.0</td>\n",
              "      <td>273.0</td>\n",
              "      <td>4918.0</td>\n",
              "    </tr>\n",
              "    <tr>\n",
              "      <th>campaign</th>\n",
              "      <td>45211.0</td>\n",
              "      <td>2.570945</td>\n",
              "      <td>3.097127</td>\n",
              "      <td>1.0</td>\n",
              "      <td>1.0</td>\n",
              "      <td>2.0</td>\n",
              "      <td>3.0</td>\n",
              "      <td>63.0</td>\n",
              "    </tr>\n",
              "    <tr>\n",
              "      <th>previous</th>\n",
              "      <td>45211.0</td>\n",
              "      <td>0.182633</td>\n",
              "      <td>0.386369</td>\n",
              "      <td>0.0</td>\n",
              "      <td>0.0</td>\n",
              "      <td>0.0</td>\n",
              "      <td>0.0</td>\n",
              "      <td>1.0</td>\n",
              "    </tr>\n",
              "    <tr>\n",
              "      <th>Target</th>\n",
              "      <td>45211.0</td>\n",
              "      <td>0.257482</td>\n",
              "      <td>0.437252</td>\n",
              "      <td>0.0</td>\n",
              "      <td>0.0</td>\n",
              "      <td>0.0</td>\n",
              "      <td>1.0</td>\n",
              "      <td>1.0</td>\n",
              "    </tr>\n",
              "  </tbody>\n",
              "</table>\n",
              "</div>"
            ],
            "text/plain": [
              "             count         mean          std  ...    50%     75%       max\n",
              "age        45211.0    33.639468    18.082150  ...   36.0    46.0      95.0\n",
              "job        45211.0     4.553980     3.478575  ...    4.0     7.0      12.0\n",
              "marital    45211.0     1.414965     0.657219  ...    1.0     2.0       3.0\n",
              "education  45211.0     1.991617     0.826216  ...    2.0     3.0       4.0\n",
              "default    45211.0     0.199398     0.399552  ...    0.0     0.0       1.0\n",
              "balance    45211.0  1078.117715  2794.777565  ...  226.0  1029.5  102127.0\n",
              "housing    45211.0     0.624737     0.484196  ...    1.0     1.0       1.0\n",
              "loan       45211.0     0.318020     0.465712  ...    0.0     1.0       1.0\n",
              "month      45211.0     5.261883     2.843143  ...    5.0     7.0      12.0\n",
              "duration   45211.0   210.839574   257.013300  ...  140.0   273.0    4918.0\n",
              "campaign   45211.0     2.570945     3.097127  ...    2.0     3.0      63.0\n",
              "previous   45211.0     0.182633     0.386369  ...    0.0     0.0       1.0\n",
              "Target     45211.0     0.257482     0.437252  ...    0.0     1.0       1.0\n",
              "\n",
              "[13 rows x 8 columns]"
            ]
          },
          "metadata": {
            "tags": []
          },
          "execution_count": 44
        }
      ]
    },
    {
      "cell_type": "code",
      "metadata": {
        "id": "t8gqIWF7HGyW",
        "colab_type": "code",
        "colab": {}
      },
      "source": [
        "def convert(df_loan):\n",
        "    # Convert the data before we can feed the data to train and test into any classification model. Helps in validation purpose. \n",
        "    df_loan.Target.replace(('yes', 'no'), (1, 0), inplace=True)\n",
        "    df_loan.default.replace(('yes','no'),(1,0),inplace=True)\n",
        "    df_loan.housing.replace(('yes','no'),(1,0),inplace=True)\n",
        "    df_loan.loan.replace(('yes','no'),(1,0),inplace=True)\n",
        "    df_loan.marital.replace(('married','single','divorced'),(1,2,3),inplace=True)\n",
        "    df_loan.month.replace(('jan','feb','mar','apr','may','jun','jul','aug','sep','oct','nov','dec'),(1,2,3,4,5,6,7,8,9,10,11,12),inplace=True)\n",
        "    df_loan.education.replace(('primary','secondary','tertiary','unknown'),(1,2,3,4),inplace=True)\n",
        "    df_loan.job.replace(('technician','services','retired','blue-collar','entrepreneur','admin.',\n",
        "                      'housemaid','student','self-employed','management',\n",
        "                      'unemployed','unknown'),(1,2,3,4,5,6,7,8,9,10,11,12),inplace=True )\n",
        "    return df_loan\n",
        "\n"
      ],
      "execution_count": 0,
      "outputs": []
    },
    {
      "cell_type": "markdown",
      "metadata": {
        "id": "wbYudlbpGdEC",
        "colab_type": "text"
      },
      "source": [
        "To help describe the variables and perform correlation between the independent variablesa conversion to numberic values is required."
      ]
    },
    {
      "cell_type": "code",
      "metadata": {
        "id": "GkYWkVl_8ZNN",
        "colab_type": "code",
        "outputId": "93bbfae8-80a8-4f6e-dfea-9dfacdf36fe2",
        "colab": {
          "base_uri": "https://localhost:8080/",
          "height": 206
        }
      },
      "source": [
        "df_loan = convert(df_loan)# Call the custom method to format the data to make it ready for correlation analysis.\n",
        "df_loan.head()"
      ],
      "execution_count": 38,
      "outputs": [
        {
          "output_type": "execute_result",
          "data": {
            "text/html": [
              "<div>\n",
              "<style scoped>\n",
              "    .dataframe tbody tr th:only-of-type {\n",
              "        vertical-align: middle;\n",
              "    }\n",
              "\n",
              "    .dataframe tbody tr th {\n",
              "        vertical-align: top;\n",
              "    }\n",
              "\n",
              "    .dataframe thead th {\n",
              "        text-align: right;\n",
              "    }\n",
              "</style>\n",
              "<table border=\"1\" class=\"dataframe\">\n",
              "  <thead>\n",
              "    <tr style=\"text-align: right;\">\n",
              "      <th></th>\n",
              "      <th>age</th>\n",
              "      <th>job</th>\n",
              "      <th>marital</th>\n",
              "      <th>education</th>\n",
              "      <th>default</th>\n",
              "      <th>balance</th>\n",
              "      <th>housing</th>\n",
              "      <th>loan</th>\n",
              "      <th>contact</th>\n",
              "      <th>day</th>\n",
              "      <th>month</th>\n",
              "      <th>duration</th>\n",
              "      <th>campaign</th>\n",
              "      <th>pdays</th>\n",
              "      <th>previous</th>\n",
              "      <th>poutcome</th>\n",
              "      <th>Target</th>\n",
              "    </tr>\n",
              "  </thead>\n",
              "  <tbody>\n",
              "    <tr>\n",
              "      <th>0</th>\n",
              "      <td>58</td>\n",
              "      <td>10</td>\n",
              "      <td>1</td>\n",
              "      <td>3</td>\n",
              "      <td>0</td>\n",
              "      <td>2143</td>\n",
              "      <td>1</td>\n",
              "      <td>0</td>\n",
              "      <td>unknown</td>\n",
              "      <td>5</td>\n",
              "      <td>5</td>\n",
              "      <td>261</td>\n",
              "      <td>1</td>\n",
              "      <td>-1</td>\n",
              "      <td>0</td>\n",
              "      <td>unknown</td>\n",
              "      <td>0</td>\n",
              "    </tr>\n",
              "    <tr>\n",
              "      <th>1</th>\n",
              "      <td>44</td>\n",
              "      <td>1</td>\n",
              "      <td>2</td>\n",
              "      <td>2</td>\n",
              "      <td>0</td>\n",
              "      <td>29</td>\n",
              "      <td>1</td>\n",
              "      <td>0</td>\n",
              "      <td>unknown</td>\n",
              "      <td>5</td>\n",
              "      <td>5</td>\n",
              "      <td>151</td>\n",
              "      <td>1</td>\n",
              "      <td>-1</td>\n",
              "      <td>0</td>\n",
              "      <td>unknown</td>\n",
              "      <td>0</td>\n",
              "    </tr>\n",
              "    <tr>\n",
              "      <th>2</th>\n",
              "      <td>33</td>\n",
              "      <td>5</td>\n",
              "      <td>1</td>\n",
              "      <td>2</td>\n",
              "      <td>0</td>\n",
              "      <td>2</td>\n",
              "      <td>1</td>\n",
              "      <td>1</td>\n",
              "      <td>unknown</td>\n",
              "      <td>5</td>\n",
              "      <td>5</td>\n",
              "      <td>76</td>\n",
              "      <td>1</td>\n",
              "      <td>-1</td>\n",
              "      <td>0</td>\n",
              "      <td>unknown</td>\n",
              "      <td>0</td>\n",
              "    </tr>\n",
              "    <tr>\n",
              "      <th>3</th>\n",
              "      <td>47</td>\n",
              "      <td>4</td>\n",
              "      <td>1</td>\n",
              "      <td>4</td>\n",
              "      <td>0</td>\n",
              "      <td>1506</td>\n",
              "      <td>1</td>\n",
              "      <td>0</td>\n",
              "      <td>unknown</td>\n",
              "      <td>5</td>\n",
              "      <td>5</td>\n",
              "      <td>92</td>\n",
              "      <td>1</td>\n",
              "      <td>-1</td>\n",
              "      <td>0</td>\n",
              "      <td>unknown</td>\n",
              "      <td>0</td>\n",
              "    </tr>\n",
              "    <tr>\n",
              "      <th>4</th>\n",
              "      <td>33</td>\n",
              "      <td>12</td>\n",
              "      <td>2</td>\n",
              "      <td>4</td>\n",
              "      <td>0</td>\n",
              "      <td>1</td>\n",
              "      <td>0</td>\n",
              "      <td>0</td>\n",
              "      <td>unknown</td>\n",
              "      <td>5</td>\n",
              "      <td>5</td>\n",
              "      <td>198</td>\n",
              "      <td>1</td>\n",
              "      <td>-1</td>\n",
              "      <td>0</td>\n",
              "      <td>unknown</td>\n",
              "      <td>0</td>\n",
              "    </tr>\n",
              "  </tbody>\n",
              "</table>\n",
              "</div>"
            ],
            "text/plain": [
              "   age  job  marital  education  ...  pdays  previous  poutcome  Target\n",
              "0   58   10        1          3  ...     -1         0   unknown       0\n",
              "1   44    1        2          2  ...     -1         0   unknown       0\n",
              "2   33    5        1          2  ...     -1         0   unknown       0\n",
              "3   47    4        1          4  ...     -1         0   unknown       0\n",
              "4   33   12        2          4  ...     -1         0   unknown       0\n",
              "\n",
              "[5 rows x 17 columns]"
            ]
          },
          "metadata": {
            "tags": []
          },
          "execution_count": 38
        }
      ]
    },
    {
      "cell_type": "code",
      "metadata": {
        "id": "rSIu8yBf8e4n",
        "colab_type": "code",
        "colab": {}
      },
      "source": [
        "df_loan = df_loan.drop(['day','poutcome','contact'],axis=1)"
      ],
      "execution_count": 0,
      "outputs": []
    },
    {
      "cell_type": "markdown",
      "metadata": {
        "id": "d_CMXbFB--zz",
        "colab_type": "text"
      },
      "source": [
        "Observation:  Atleast 80% of poutcome is unknown and 25% of the Contact details are unknown. Day of the month does not have any significance for this analysis.  Hence these columns can be dropped. "
      ]
    },
    {
      "cell_type": "code",
      "metadata": {
        "id": "sCnQckFK-TvZ",
        "colab_type": "code",
        "outputId": "79ed3e4d-4bd1-4402-fd2a-5925d45acf7e",
        "colab": {
          "base_uri": "https://localhost:8080/",
          "height": 489
        }
      },
      "source": [
        "df_loan.describe().T"
      ],
      "execution_count": 40,
      "outputs": [
        {
          "output_type": "execute_result",
          "data": {
            "text/html": [
              "<div>\n",
              "<style scoped>\n",
              "    .dataframe tbody tr th:only-of-type {\n",
              "        vertical-align: middle;\n",
              "    }\n",
              "\n",
              "    .dataframe tbody tr th {\n",
              "        vertical-align: top;\n",
              "    }\n",
              "\n",
              "    .dataframe thead th {\n",
              "        text-align: right;\n",
              "    }\n",
              "</style>\n",
              "<table border=\"1\" class=\"dataframe\">\n",
              "  <thead>\n",
              "    <tr style=\"text-align: right;\">\n",
              "      <th></th>\n",
              "      <th>count</th>\n",
              "      <th>mean</th>\n",
              "      <th>std</th>\n",
              "      <th>min</th>\n",
              "      <th>25%</th>\n",
              "      <th>50%</th>\n",
              "      <th>75%</th>\n",
              "      <th>max</th>\n",
              "    </tr>\n",
              "  </thead>\n",
              "  <tbody>\n",
              "    <tr>\n",
              "      <th>age</th>\n",
              "      <td>45211.0</td>\n",
              "      <td>40.936210</td>\n",
              "      <td>10.618762</td>\n",
              "      <td>18.0</td>\n",
              "      <td>33.0</td>\n",
              "      <td>39.0</td>\n",
              "      <td>48.0</td>\n",
              "      <td>95.0</td>\n",
              "    </tr>\n",
              "    <tr>\n",
              "      <th>job</th>\n",
              "      <td>45211.0</td>\n",
              "      <td>5.371480</td>\n",
              "      <td>3.367861</td>\n",
              "      <td>1.0</td>\n",
              "      <td>2.0</td>\n",
              "      <td>4.0</td>\n",
              "      <td>9.0</td>\n",
              "      <td>12.0</td>\n",
              "    </tr>\n",
              "    <tr>\n",
              "      <th>marital</th>\n",
              "      <td>45211.0</td>\n",
              "      <td>1.513238</td>\n",
              "      <td>0.692948</td>\n",
              "      <td>1.0</td>\n",
              "      <td>1.0</td>\n",
              "      <td>1.0</td>\n",
              "      <td>2.0</td>\n",
              "      <td>3.0</td>\n",
              "    </tr>\n",
              "    <tr>\n",
              "      <th>education</th>\n",
              "      <td>45211.0</td>\n",
              "      <td>2.224813</td>\n",
              "      <td>0.747997</td>\n",
              "      <td>1.0</td>\n",
              "      <td>2.0</td>\n",
              "      <td>2.0</td>\n",
              "      <td>3.0</td>\n",
              "      <td>4.0</td>\n",
              "    </tr>\n",
              "    <tr>\n",
              "      <th>default</th>\n",
              "      <td>45211.0</td>\n",
              "      <td>0.018027</td>\n",
              "      <td>0.133049</td>\n",
              "      <td>0.0</td>\n",
              "      <td>0.0</td>\n",
              "      <td>0.0</td>\n",
              "      <td>0.0</td>\n",
              "      <td>1.0</td>\n",
              "    </tr>\n",
              "    <tr>\n",
              "      <th>balance</th>\n",
              "      <td>45211.0</td>\n",
              "      <td>1362.272058</td>\n",
              "      <td>3044.765829</td>\n",
              "      <td>-8019.0</td>\n",
              "      <td>72.0</td>\n",
              "      <td>448.0</td>\n",
              "      <td>1428.0</td>\n",
              "      <td>102127.0</td>\n",
              "    </tr>\n",
              "    <tr>\n",
              "      <th>housing</th>\n",
              "      <td>45211.0</td>\n",
              "      <td>0.555838</td>\n",
              "      <td>0.496878</td>\n",
              "      <td>0.0</td>\n",
              "      <td>0.0</td>\n",
              "      <td>1.0</td>\n",
              "      <td>1.0</td>\n",
              "      <td>1.0</td>\n",
              "    </tr>\n",
              "    <tr>\n",
              "      <th>loan</th>\n",
              "      <td>45211.0</td>\n",
              "      <td>0.160226</td>\n",
              "      <td>0.366820</td>\n",
              "      <td>0.0</td>\n",
              "      <td>0.0</td>\n",
              "      <td>0.0</td>\n",
              "      <td>0.0</td>\n",
              "      <td>1.0</td>\n",
              "    </tr>\n",
              "    <tr>\n",
              "      <th>month</th>\n",
              "      <td>45211.0</td>\n",
              "      <td>6.144655</td>\n",
              "      <td>2.408034</td>\n",
              "      <td>1.0</td>\n",
              "      <td>5.0</td>\n",
              "      <td>6.0</td>\n",
              "      <td>8.0</td>\n",
              "      <td>12.0</td>\n",
              "    </tr>\n",
              "    <tr>\n",
              "      <th>duration</th>\n",
              "      <td>45211.0</td>\n",
              "      <td>258.163080</td>\n",
              "      <td>257.527812</td>\n",
              "      <td>0.0</td>\n",
              "      <td>103.0</td>\n",
              "      <td>180.0</td>\n",
              "      <td>319.0</td>\n",
              "      <td>4918.0</td>\n",
              "    </tr>\n",
              "    <tr>\n",
              "      <th>campaign</th>\n",
              "      <td>45211.0</td>\n",
              "      <td>2.763841</td>\n",
              "      <td>3.098021</td>\n",
              "      <td>1.0</td>\n",
              "      <td>1.0</td>\n",
              "      <td>2.0</td>\n",
              "      <td>3.0</td>\n",
              "      <td>63.0</td>\n",
              "    </tr>\n",
              "    <tr>\n",
              "      <th>pdays</th>\n",
              "      <td>45211.0</td>\n",
              "      <td>40.197828</td>\n",
              "      <td>100.128746</td>\n",
              "      <td>-1.0</td>\n",
              "      <td>-1.0</td>\n",
              "      <td>-1.0</td>\n",
              "      <td>-1.0</td>\n",
              "      <td>871.0</td>\n",
              "    </tr>\n",
              "    <tr>\n",
              "      <th>previous</th>\n",
              "      <td>45211.0</td>\n",
              "      <td>0.580323</td>\n",
              "      <td>2.303441</td>\n",
              "      <td>0.0</td>\n",
              "      <td>0.0</td>\n",
              "      <td>0.0</td>\n",
              "      <td>0.0</td>\n",
              "      <td>275.0</td>\n",
              "    </tr>\n",
              "    <tr>\n",
              "      <th>Target</th>\n",
              "      <td>45211.0</td>\n",
              "      <td>0.116985</td>\n",
              "      <td>0.321406</td>\n",
              "      <td>0.0</td>\n",
              "      <td>0.0</td>\n",
              "      <td>0.0</td>\n",
              "      <td>0.0</td>\n",
              "      <td>1.0</td>\n",
              "    </tr>\n",
              "  </tbody>\n",
              "</table>\n",
              "</div>"
            ],
            "text/plain": [
              "             count         mean          std  ...    50%     75%       max\n",
              "age        45211.0    40.936210    10.618762  ...   39.0    48.0      95.0\n",
              "job        45211.0     5.371480     3.367861  ...    4.0     9.0      12.0\n",
              "marital    45211.0     1.513238     0.692948  ...    1.0     2.0       3.0\n",
              "education  45211.0     2.224813     0.747997  ...    2.0     3.0       4.0\n",
              "default    45211.0     0.018027     0.133049  ...    0.0     0.0       1.0\n",
              "balance    45211.0  1362.272058  3044.765829  ...  448.0  1428.0  102127.0\n",
              "housing    45211.0     0.555838     0.496878  ...    1.0     1.0       1.0\n",
              "loan       45211.0     0.160226     0.366820  ...    0.0     0.0       1.0\n",
              "month      45211.0     6.144655     2.408034  ...    6.0     8.0      12.0\n",
              "duration   45211.0   258.163080   257.527812  ...  180.0   319.0    4918.0\n",
              "campaign   45211.0     2.763841     3.098021  ...    2.0     3.0      63.0\n",
              "pdays      45211.0    40.197828   100.128746  ...   -1.0    -1.0     871.0\n",
              "previous   45211.0     0.580323     2.303441  ...    0.0     0.0     275.0\n",
              "Target     45211.0     0.116985     0.321406  ...    0.0     0.0       1.0\n",
              "\n",
              "[14 rows x 8 columns]"
            ]
          },
          "metadata": {
            "tags": []
          },
          "execution_count": 40
        }
      ]
    },
    {
      "cell_type": "code",
      "metadata": {
        "id": "SsGNbn_gC2ak",
        "colab_type": "code",
        "outputId": "e211b005-bc9e-4bef-e065-c09517476a2e",
        "colab": {
          "base_uri": "https://localhost:8080/",
          "height": 465
        }
      },
      "source": [
        "#Design a correlation heat map to understand the correlation within the independent variables.\n",
        "#This will help us to determine any multicolinearity and remove the same from the dataset for building a better model.\n",
        "df_loanN = df_loan.iloc[:,0:13] # removing the target variable from the correlation analysis.\n",
        "corr = df_loanN.corr()\n",
        "plt.figure(figsize=(10,7))\n",
        "# create a mask so we only see the correlation values once\n",
        "mask = np.zeros_like(corr)\n",
        "mask[np.triu_indices_from(mask, 1)] = True\n",
        "a = sns.heatmap(corr,mask=mask, annot=True, fmt='.2f') # Plot the headmap and understand the correlation\n",
        "labelx = a.set_xticklabels(a.get_xticklabels(), rotation=45)\n",
        "labely = a.set_yticklabels(a.get_yticklabels(), rotation=45)"
      ],
      "execution_count": 41,
      "outputs": [
        {
          "output_type": "display_data",
          "data": {
            "image/png": "[encoded data removed]",
            "text/plain": [
              "<Figure size 720x504 with 2 Axes>"
            ]
          },
          "metadata": {
            "tags": []
          }
        }
      ]
    },
    {
      "cell_type": "markdown",
      "metadata": {
        "id": "lkHBA7ylFZRQ",
        "colab_type": "text"
      },
      "source": [
        "Observation:  There seems to be minimal correlation between education and job.  Similar correlation is noted between pdays (days passed from previous campaign) and previous (number of contacts before this campaign).  There is no significance and hence no multicollinearity noted."
      ]
    },
    {
      "cell_type": "code",
      "metadata": {
        "id": "HAM0qMx9NW8E",
        "colab_type": "code",
        "colab": {}
      },
      "source": [
        "df_loan.loc[df_loan.previous > 0] = 1\n",
        "df_loan = df_loan.drop(['pdays'],axis=1)"
      ],
      "execution_count": 0,
      "outputs": []
    },
    {
      "cell_type": "markdown",
      "metadata": {
        "id": "e5OEKgXVNgEE",
        "colab_type": "text"
      },
      "source": [
        "Observation and action: Pdays is the number of days passed by after the client was last contacted. 80% of the values are -1.  Further analysis has shown that all pDays with -1 has Previous column value as 0.  This means that this specific customer was never contacted before.  We need the details of whether or not a customer was contacted before and hence these two variable can be combined into one having 0 for contacted and 1 for non contacted.  "
      ]
    },
    {
      "cell_type": "code",
      "metadata": {
        "id": "i_ZPa_AvS5Bo",
        "colab_type": "code",
        "outputId": "af0c3454-798a-4254-b02d-0f90e3aa716c",
        "colab": {
          "base_uri": "https://localhost:8080/",
          "height": 72
        }
      },
      "source": [
        "df_loan.previous.value_counts()"
      ],
      "execution_count": 43,
      "outputs": [
        {
          "output_type": "execute_result",
          "data": {
            "text/plain": [
              "0    36954\n",
              "1     8257\n",
              "Name: previous, dtype: int64"
            ]
          },
          "metadata": {
            "tags": []
          },
          "execution_count": 43
        }
      ]
    },
    {
      "cell_type": "code",
      "metadata": {
        "id": "ftT9YOkdDfOr",
        "colab_type": "code",
        "colab": {}
      },
      "source": [
        "# Use the PairPlot to understand individual variables and its distribution.\n",
        "sns.pairplot(df_loan)"
      ],
      "execution_count": 0,
      "outputs": []
    },
    {
      "cell_type": "code",
      "metadata": {
        "id": "p7UJdOaAKG0O",
        "colab_type": "code",
        "outputId": "ad73d39e-f715-4f7f-a604-040416ba42ba",
        "colab": {
          "base_uri": "https://localhost:8080/",
          "height": 457
        }
      },
      "source": [
        "df_loan.describe().T"
      ],
      "execution_count": 25,
      "outputs": [
        {
          "output_type": "execute_result",
          "data": {
            "text/html": [
              "<div>\n",
              "<style scoped>\n",
              "    .dataframe tbody tr th:only-of-type {\n",
              "        vertical-align: middle;\n",
              "    }\n",
              "\n",
              "    .dataframe tbody tr th {\n",
              "        vertical-align: top;\n",
              "    }\n",
              "\n",
              "    .dataframe thead th {\n",
              "        text-align: right;\n",
              "    }\n",
              "</style>\n",
              "<table border=\"1\" class=\"dataframe\">\n",
              "  <thead>\n",
              "    <tr style=\"text-align: right;\">\n",
              "      <th></th>\n",
              "      <th>count</th>\n",
              "      <th>mean</th>\n",
              "      <th>std</th>\n",
              "      <th>min</th>\n",
              "      <th>25%</th>\n",
              "      <th>50%</th>\n",
              "      <th>75%</th>\n",
              "      <th>max</th>\n",
              "    </tr>\n",
              "  </thead>\n",
              "  <tbody>\n",
              "    <tr>\n",
              "      <th>age</th>\n",
              "      <td>45211.0</td>\n",
              "      <td>33.639468</td>\n",
              "      <td>18.082150</td>\n",
              "      <td>1.0</td>\n",
              "      <td>28.0</td>\n",
              "      <td>36.0</td>\n",
              "      <td>46.0</td>\n",
              "      <td>95.0</td>\n",
              "    </tr>\n",
              "    <tr>\n",
              "      <th>job</th>\n",
              "      <td>45211.0</td>\n",
              "      <td>4.553980</td>\n",
              "      <td>3.478575</td>\n",
              "      <td>1.0</td>\n",
              "      <td>1.0</td>\n",
              "      <td>4.0</td>\n",
              "      <td>7.0</td>\n",
              "      <td>12.0</td>\n",
              "    </tr>\n",
              "    <tr>\n",
              "      <th>marital</th>\n",
              "      <td>45211.0</td>\n",
              "      <td>1.414965</td>\n",
              "      <td>0.657219</td>\n",
              "      <td>1.0</td>\n",
              "      <td>1.0</td>\n",
              "      <td>1.0</td>\n",
              "      <td>2.0</td>\n",
              "      <td>3.0</td>\n",
              "    </tr>\n",
              "    <tr>\n",
              "      <th>education</th>\n",
              "      <td>45211.0</td>\n",
              "      <td>1.991617</td>\n",
              "      <td>0.826216</td>\n",
              "      <td>1.0</td>\n",
              "      <td>1.0</td>\n",
              "      <td>2.0</td>\n",
              "      <td>3.0</td>\n",
              "      <td>4.0</td>\n",
              "    </tr>\n",
              "    <tr>\n",
              "      <th>default</th>\n",
              "      <td>45211.0</td>\n",
              "      <td>0.199398</td>\n",
              "      <td>0.399552</td>\n",
              "      <td>0.0</td>\n",
              "      <td>0.0</td>\n",
              "      <td>0.0</td>\n",
              "      <td>0.0</td>\n",
              "      <td>1.0</td>\n",
              "    </tr>\n",
              "    <tr>\n",
              "      <th>balance</th>\n",
              "      <td>45211.0</td>\n",
              "      <td>1078.117715</td>\n",
              "      <td>2794.777565</td>\n",
              "      <td>-8019.0</td>\n",
              "      <td>1.0</td>\n",
              "      <td>226.0</td>\n",
              "      <td>1029.5</td>\n",
              "      <td>102127.0</td>\n",
              "    </tr>\n",
              "    <tr>\n",
              "      <th>housing</th>\n",
              "      <td>45211.0</td>\n",
              "      <td>0.624737</td>\n",
              "      <td>0.484196</td>\n",
              "      <td>0.0</td>\n",
              "      <td>0.0</td>\n",
              "      <td>1.0</td>\n",
              "      <td>1.0</td>\n",
              "      <td>1.0</td>\n",
              "    </tr>\n",
              "    <tr>\n",
              "      <th>loan</th>\n",
              "      <td>45211.0</td>\n",
              "      <td>0.318020</td>\n",
              "      <td>0.465712</td>\n",
              "      <td>0.0</td>\n",
              "      <td>0.0</td>\n",
              "      <td>0.0</td>\n",
              "      <td>1.0</td>\n",
              "      <td>1.0</td>\n",
              "    </tr>\n",
              "    <tr>\n",
              "      <th>month</th>\n",
              "      <td>45211.0</td>\n",
              "      <td>5.261883</td>\n",
              "      <td>2.843143</td>\n",
              "      <td>1.0</td>\n",
              "      <td>4.0</td>\n",
              "      <td>5.0</td>\n",
              "      <td>7.0</td>\n",
              "      <td>12.0</td>\n",
              "    </tr>\n",
              "    <tr>\n",
              "      <th>duration</th>\n",
              "      <td>45211.0</td>\n",
              "      <td>210.839574</td>\n",
              "      <td>257.013300</td>\n",
              "      <td>0.0</td>\n",
              "      <td>50.0</td>\n",
              "      <td>140.0</td>\n",
              "      <td>273.0</td>\n",
              "      <td>4918.0</td>\n",
              "    </tr>\n",
              "    <tr>\n",
              "      <th>campaign</th>\n",
              "      <td>45211.0</td>\n",
              "      <td>2.570945</td>\n",
              "      <td>3.097127</td>\n",
              "      <td>1.0</td>\n",
              "      <td>1.0</td>\n",
              "      <td>2.0</td>\n",
              "      <td>3.0</td>\n",
              "      <td>63.0</td>\n",
              "    </tr>\n",
              "    <tr>\n",
              "      <th>previous</th>\n",
              "      <td>45211.0</td>\n",
              "      <td>0.182633</td>\n",
              "      <td>0.386369</td>\n",
              "      <td>0.0</td>\n",
              "      <td>0.0</td>\n",
              "      <td>0.0</td>\n",
              "      <td>0.0</td>\n",
              "      <td>1.0</td>\n",
              "    </tr>\n",
              "    <tr>\n",
              "      <th>Target</th>\n",
              "      <td>45211.0</td>\n",
              "      <td>0.257482</td>\n",
              "      <td>0.437252</td>\n",
              "      <td>0.0</td>\n",
              "      <td>0.0</td>\n",
              "      <td>0.0</td>\n",
              "      <td>1.0</td>\n",
              "      <td>1.0</td>\n",
              "    </tr>\n",
              "  </tbody>\n",
              "</table>\n",
              "</div>"
            ],
            "text/plain": [
              "             count         mean          std  ...    50%     75%       max\n",
              "age        45211.0    33.639468    18.082150  ...   36.0    46.0      95.0\n",
              "job        45211.0     4.553980     3.478575  ...    4.0     7.0      12.0\n",
              "marital    45211.0     1.414965     0.657219  ...    1.0     2.0       3.0\n",
              "education  45211.0     1.991617     0.826216  ...    2.0     3.0       4.0\n",
              "default    45211.0     0.199398     0.399552  ...    0.0     0.0       1.0\n",
              "balance    45211.0  1078.117715  2794.777565  ...  226.0  1029.5  102127.0\n",
              "housing    45211.0     0.624737     0.484196  ...    1.0     1.0       1.0\n",
              "loan       45211.0     0.318020     0.465712  ...    0.0     1.0       1.0\n",
              "month      45211.0     5.261883     2.843143  ...    5.0     7.0      12.0\n",
              "duration   45211.0   210.839574   257.013300  ...  140.0   273.0    4918.0\n",
              "campaign   45211.0     2.570945     3.097127  ...    2.0     3.0      63.0\n",
              "previous   45211.0     0.182633     0.386369  ...    0.0     0.0       1.0\n",
              "Target     45211.0     0.257482     0.437252  ...    0.0     1.0       1.0\n",
              "\n",
              "[13 rows x 8 columns]"
            ]
          },
          "metadata": {
            "tags": []
          },
          "execution_count": 25
        }
      ]
    },
    {
      "cell_type": "code",
      "metadata": {
        "id": "YJ53EX_4UnzM",
        "colab_type": "code",
        "colab": {
          "base_uri": "https://localhost:8080/",
          "height": 387
        },
        "outputId": "d9b2ff00-e88a-4f2c-8467-e1d1cc203851"
      },
      "source": [
        "# Using CatPlot to understand the relationship between Age / Education / Marital status and the Target variable\n",
        "sns.catplot(x=\"month\", \n",
        "               y=\"duration\",\n",
        "                hue=\"Target\", \n",
        "               data=df_loan, \n",
        "              kind=\"strip\")"
      ],
      "execution_count": 53,
      "outputs": [
        {
          "output_type": "execute_result",
          "data": {
            "text/plain": [
              "<seaborn.axisgrid.FacetGrid at 0x7fb4d8157a20>"
            ]
          },
          "metadata": {
            "tags": []
          },
          "execution_count": 53
        },
        {
          "output_type": "display_data",
          "data": {
            "image/png": "[encoded data removed]",
            "text/plain": [
              "<Figure size 402.375x360 with 1 Axes>"
            ]
          },
          "metadata": {
            "tags": []
          }
        }
      ]
    },
    {
      "cell_type": "markdown",
      "metadata": {
        "id": "N9tNAqMH7G0e",
        "colab_type": "text"
      },
      "source": [
        "Observation: There is increased number of conversations during the mid year, but the conversion seems to be steady and there is no decrease as long as a call is received."
      ]
    },
    {
      "cell_type": "code",
      "metadata": {
        "id": "arHk_Z44srAv",
        "colab_type": "code",
        "colab": {
          "base_uri": "https://localhost:8080/",
          "height": 387
        },
        "outputId": "69014ee0-4e29-4662-a6b7-17877fb90fc6"
      },
      "source": [
        "# Using CatPlot to understand the relationship between Age / Education / Marital status and the Target variable\n",
        "sns.catplot(x=\"default\", \n",
        "               y=\"age\", \n",
        "               hue=\"Target\",\n",
        "               col=\"marital\",\n",
        "               data=df_loan, \n",
        "               kind=\"strip\")"
      ],
      "execution_count": 52,
      "outputs": [
        {
          "output_type": "execute_result",
          "data": {
            "text/plain": [
              "<seaborn.axisgrid.FacetGrid at 0x7fb4d7fe4b38>"
            ]
          },
          "metadata": {
            "tags": []
          },
          "execution_count": 52
        },
        {
          "output_type": "display_data",
          "data": {
            "image/png": "[encoded data removed]",
            "text/plain": [
              "<Figure size 1122.38x360 with 3 Axes>"
            ]
          },
          "metadata": {
            "tags": []
          }
        }
      ]
    },
    {
      "cell_type": "markdown",
      "metadata": {
        "id": "Q05-8yBg8xfZ",
        "colab_type": "text"
      },
      "source": [
        "## Split the data into Training and Testing Split"
      ]
    },
    {
      "cell_type": "code",
      "metadata": {
        "id": "yAsPGkTnssl4",
        "colab_type": "code",
        "colab": {
          "base_uri": "https://localhost:8080/",
          "height": 90
        },
        "outputId": "25b919f6-6d02-4226-81a3-abe62ad4c057"
      },
      "source": [
        "#Understand the Target Variable spread.\n",
        "print('Split of Loan decisions:\\n',df_loan['Target'].value_counts())\n"
      ],
      "execution_count": 54,
      "outputs": [
        {
          "output_type": "stream",
          "text": [
            "Split of Loan decisions:\n",
            " 0    33570\n",
            "1    11641\n",
            "Name: Target, dtype: int64\n"
          ],
          "name": "stdout"
        }
      ]
    },
    {
      "cell_type": "markdown",
      "metadata": {
        "id": "LE4b6sSb90MA",
        "colab_type": "text"
      },
      "source": [
        "Observation:  Target variable is of 75 (0) and 25 (1) split."
      ]
    },
    {
      "cell_type": "code",
      "metadata": {
        "id": "CGrBC7Kt8YcC",
        "colab_type": "code",
        "colab": {}
      },
      "source": [
        "# X and y Values and Data Split for Model Training\n",
        "\n",
        "X = df_loan.drop(['Target'], axis=1) # Copy all except Personal Loan Column to X as Personal Loan is our Target Variable\n",
        "y = df_loan[['Target']] # Copy the Target Variable to y\n",
        "labelList = [] # Capture Labels\n",
        "resultList = [] # Capture Results\n",
        "X_train, X_test, y_train, y_test =  train_test_split(X,y,test_size=0.30,random_state=15) # Split the data into Train and Test split"
      ],
      "execution_count": 0,
      "outputs": []
    },
    {
      "cell_type": "markdown",
      "metadata": {
        "id": "DgbgAtm-ARJT",
        "colab_type": "text"
      },
      "source": [
        "## Logistics Regression"
      ]
    },
    {
      "cell_type": "code",
      "metadata": {
        "id": "gSiI9IHm-azC",
        "colab_type": "code",
        "colab": {
          "base_uri": "https://localhost:8080/",
          "height": 129
        },
        "outputId": "1b44ae03-4f9d-4cfb-f888-0ae059914eb9"
      },
      "source": [
        "lr = LogisticRegression()\n",
        "lr.fit(X_train,y_train)\n",
        "print(\"test accuracy {}\".format(lr.score(X_test,y_test)))\n",
        "\n",
        "# adding result and label to lists\n",
        "labelList.append(\"Log_Reg\")\n",
        "resultList.append(lr.score(X_test,y_test))"
      ],
      "execution_count": 65,
      "outputs": [
        {
          "output_type": "stream",
          "text": [
            "/usr/local/lib/python3.6/dist-packages/sklearn/linear_model/logistic.py:432: FutureWarning: Default solver will be changed to 'lbfgs' in 0.22. Specify a solver to silence this warning.\n",
            "  FutureWarning)\n",
            "/usr/local/lib/python3.6/dist-packages/sklearn/utils/validation.py:724: DataConversionWarning: A column-vector y was passed when a 1d array was expected. Please change the shape of y to (n_samples, ), for example using ravel().\n",
            "  y = column_or_1d(y, warn=True)\n"
          ],
          "name": "stderr"
        },
        {
          "output_type": "stream",
          "text": [
            "test accuracy 0.9304777351813625\n"
          ],
          "name": "stdout"
        }
      ]
    },
    {
      "cell_type": "code",
      "metadata": {
        "id": "TVDyxUU2-Z-J",
        "colab_type": "code",
        "colab": {
          "base_uri": "https://localhost:8080/",
          "height": 35
        },
        "outputId": "c7b33156-dd80-4476-b6f0-014a27c04e0f"
      },
      "source": [
        "# Decision Tree\n",
        "dt = DecisionTreeClassifier()\n",
        "dt.fit(X_train,y_train)\n",
        "\n",
        "print(\"decison tree score : \",dt.score(X_test,y_test))\n",
        "\n",
        "# adding result and label to lists\n",
        "labelList.append(\"Dec_Tree\")\n",
        "resultList.append(dt.score(X_test,y_test))"
      ],
      "execution_count": 68,
      "outputs": [
        {
          "output_type": "stream",
          "text": [
            "decison tree score :  0.902241226776762\n"
          ],
          "name": "stdout"
        }
      ]
    },
    {
      "cell_type": "code",
      "metadata": {
        "id": "KuMJ4mOBDhCt",
        "colab_type": "code",
        "colab": {
          "base_uri": "https://localhost:8080/",
          "height": 92
        },
        "outputId": "97e9e79f-6fbe-4e0e-a6ab-bafc39de594a"
      },
      "source": [
        "# Random forest\n",
        "rf = RandomForestClassifier(n_estimators=100,random_state = 1)\n",
        "rf.fit(X_train, y_train)\n",
        "print(\"Random forest algor. result: \",rf.score(X_test,y_test))\n",
        "\n",
        "# adding result and label to lists\n",
        "labelList.append(\"Rand_For\")\n",
        "resultList.append(rf.score(X_test,y_test))"
      ],
      "execution_count": 70,
      "outputs": [
        {
          "output_type": "stream",
          "text": [
            "/usr/local/lib/python3.6/dist-packages/ipykernel_launcher.py:2: DataConversionWarning: A column-vector y was passed when a 1d array was expected. Please change the shape of y to (n_samples,), for example using ravel().\n",
            "  \n"
          ],
          "name": "stderr"
        },
        {
          "output_type": "stream",
          "text": [
            "Random forest algor. result:  0.9296667649660867\n"
          ],
          "name": "stdout"
        }
      ]
    },
    {
      "cell_type": "code",
      "metadata": {
        "id": "FZSD0kFbEMPS",
        "colab_type": "code",
        "colab": {
          "base_uri": "https://localhost:8080/",
          "height": 92
        },
        "outputId": "cb8e7776-ba9d-4914-eb2b-9c173940a1a7"
      },
      "source": [
        "# Naive Byes \n",
        "nb = GaussianNB()\n",
        "nb.fit(X_train,y_train)\n",
        "print(\"Accuracy of naive bayes algo: \",nb.score(X_test,y_test))\n",
        "\n",
        "# adding result and label to lists\n",
        "labelList.append(\"Naive_Byes\")\n",
        "resultList.append(nb.score(X_test,y_test))"
      ],
      "execution_count": 71,
      "outputs": [
        {
          "output_type": "stream",
          "text": [
            "Accuracy of naive bayes algo:  0.9135948097906222\n"
          ],
          "name": "stdout"
        },
        {
          "output_type": "stream",
          "text": [
            "/usr/local/lib/python3.6/dist-packages/sklearn/utils/validation.py:724: DataConversionWarning: A column-vector y was passed when a 1d array was expected. Please change the shape of y to (n_samples, ), for example using ravel().\n",
            "  y = column_or_1d(y, warn=True)\n"
          ],
          "name": "stderr"
        }
      ]
    },
    {
      "cell_type": "code",
      "metadata": {
        "id": "9diXL9TDEmMi",
        "colab_type": "code",
        "colab": {
          "base_uri": "https://localhost:8080/",
          "height": 129
        },
        "outputId": "078acb18-6251-409e-c169-125ef318dfbf"
      },
      "source": [
        "# SVM model\n",
        "svm = SVC(random_state=3)\n",
        "svm.fit(X_train,y_train)\n",
        "print(\"Accuracy of svm algo: \",svm.score(X_test,y_test))\n",
        "\n",
        "# adding result and label to lists\n",
        "labelList.append(\"SVM\")\n",
        "resultList.append(svm.score(X_test,y_test))"
      ],
      "execution_count": 75,
      "outputs": [
        {
          "output_type": "stream",
          "text": [
            "/usr/local/lib/python3.6/dist-packages/sklearn/utils/validation.py:724: DataConversionWarning: A column-vector y was passed when a 1d array was expected. Please change the shape of y to (n_samples, ), for example using ravel().\n",
            "  y = column_or_1d(y, warn=True)\n",
            "/usr/local/lib/python3.6/dist-packages/sklearn/svm/base.py:193: FutureWarning: The default value of gamma will change from 'auto' to 'scale' in version 0.22 to account better for unscaled features. Set gamma explicitly to 'auto' or 'scale' to avoid this warning.\n",
            "  \"avoid this warning.\", FutureWarning)\n"
          ],
          "name": "stderr"
        },
        {
          "output_type": "stream",
          "text": [
            "Accuracy of svm algo:  0.9259068121498083\n"
          ],
          "name": "stdout"
        }
      ]
    },
    {
      "cell_type": "code",
      "metadata": {
        "id": "67jjdie6FIyf",
        "colab_type": "code",
        "colab": {
          "base_uri": "https://localhost:8080/",
          "height": 92
        },
        "outputId": "452dac7a-199f-41d8-94c2-5388edf05b7b"
      },
      "source": [
        "# KNN model\n",
        "knn = KNeighborsClassifier(n_neighbors=14) #n_neighbors = k\n",
        "knn.fit(X_train,y_train)\n",
        "prediction = knn.predict(X_test)\n",
        "\n",
        "# score\n",
        "print(\" {} nn score: {} \".format(3,knn.score(X_test,y_test)))\n",
        "\n"
      ],
      "execution_count": 78,
      "outputs": [
        {
          "output_type": "stream",
          "text": [
            "/usr/local/lib/python3.6/dist-packages/ipykernel_launcher.py:2: DataConversionWarning: A column-vector y was passed when a 1d array was expected. Please change the shape of y to (n_samples, ), for example using ravel().\n",
            "  \n"
          ],
          "name": "stderr"
        },
        {
          "output_type": "stream",
          "text": [
            " 3 nn score: 0.9270864051902094 \n"
          ],
          "name": "stdout"
        }
      ]
    },
    {
      "cell_type": "code",
      "metadata": {
        "id": "UOXFR3l0HZNH",
        "colab_type": "code",
        "colab": {
          "base_uri": "https://localhost:8080/",
          "height": 817
        },
        "outputId": "1f1e3f1f-6673-4e9c-e6df-7e2099bfc050"
      },
      "source": [
        "# Finding optimum k value between 1 and 15\n",
        "score_list = []\n",
        "for each in range(1,15):\n",
        "    knn2 = KNeighborsClassifier(n_neighbors = each) # create a new knn model\n",
        "    knn2.fit(X_train,y_train)\n",
        "    score_list.append(knn2.score(X_test,y_test))\n",
        "\n",
        "plt.plot(range(1,15),score_list) # x axis is in interval of 1 and 15\n",
        "plt.xlabel(\"k values\")\n",
        "plt.ylabel(\"accuracy\")\n",
        "plt.show()"
      ],
      "execution_count": 77,
      "outputs": [
        {
          "output_type": "stream",
          "text": [
            "/usr/local/lib/python3.6/dist-packages/ipykernel_launcher.py:4: DataConversionWarning: A column-vector y was passed when a 1d array was expected. Please change the shape of y to (n_samples, ), for example using ravel().\n",
            "  after removing the cwd from sys.path.\n",
            "/usr/local/lib/python3.6/dist-packages/ipykernel_launcher.py:4: DataConversionWarning: A column-vector y was passed when a 1d array was expected. Please change the shape of y to (n_samples, ), for example using ravel().\n",
            "  after removing the cwd from sys.path.\n",
            "/usr/local/lib/python3.6/dist-packages/ipykernel_launcher.py:4: DataConversionWarning: A column-vector y was passed when a 1d array was expected. Please change the shape of y to (n_samples, ), for example using ravel().\n",
            "  after removing the cwd from sys.path.\n",
            "/usr/local/lib/python3.6/dist-packages/ipykernel_launcher.py:4: DataConversionWarning: A column-vector y was passed when a 1d array was expected. Please change the shape of y to (n_samples, ), for example using ravel().\n",
            "  after removing the cwd from sys.path.\n",
            "/usr/local/lib/python3.6/dist-packages/ipykernel_launcher.py:4: DataConversionWarning: A column-vector y was passed when a 1d array was expected. Please change the shape of y to (n_samples, ), for example using ravel().\n",
            "  after removing the cwd from sys.path.\n",
            "/usr/local/lib/python3.6/dist-packages/ipykernel_launcher.py:4: DataConversionWarning: A column-vector y was passed when a 1d array was expected. Please change the shape of y to (n_samples, ), for example using ravel().\n",
            "  after removing the cwd from sys.path.\n",
            "/usr/local/lib/python3.6/dist-packages/ipykernel_launcher.py:4: DataConversionWarning: A column-vector y was passed when a 1d array was expected. Please change the shape of y to (n_samples, ), for example using ravel().\n",
            "  after removing the cwd from sys.path.\n",
            "/usr/local/lib/python3.6/dist-packages/ipykernel_launcher.py:4: DataConversionWarning: A column-vector y was passed when a 1d array was expected. Please change the shape of y to (n_samples, ), for example using ravel().\n",
            "  after removing the cwd from sys.path.\n",
            "/usr/local/lib/python3.6/dist-packages/ipykernel_launcher.py:4: DataConversionWarning: A column-vector y was passed when a 1d array was expected. Please change the shape of y to (n_samples, ), for example using ravel().\n",
            "  after removing the cwd from sys.path.\n",
            "/usr/local/lib/python3.6/dist-packages/ipykernel_launcher.py:4: DataConversionWarning: A column-vector y was passed when a 1d array was expected. Please change the shape of y to (n_samples, ), for example using ravel().\n",
            "  after removing the cwd from sys.path.\n",
            "/usr/local/lib/python3.6/dist-packages/ipykernel_launcher.py:4: DataConversionWarning: A column-vector y was passed when a 1d array was expected. Please change the shape of y to (n_samples, ), for example using ravel().\n",
            "  after removing the cwd from sys.path.\n",
            "/usr/local/lib/python3.6/dist-packages/ipykernel_launcher.py:4: DataConversionWarning: A column-vector y was passed when a 1d array was expected. Please change the shape of y to (n_samples, ), for example using ravel().\n",
            "  after removing the cwd from sys.path.\n",
            "/usr/local/lib/python3.6/dist-packages/ipykernel_launcher.py:4: DataConversionWarning: A column-vector y was passed when a 1d array was expected. Please change the shape of y to (n_samples, ), for example using ravel().\n",
            "  after removing the cwd from sys.path.\n",
            "/usr/local/lib/python3.6/dist-packages/ipykernel_launcher.py:4: DataConversionWarning: A column-vector y was passed when a 1d array was expected. Please change the shape of y to (n_samples, ), for example using ravel().\n",
            "  after removing the cwd from sys.path.\n"
          ],
          "name": "stderr"
        },
        {
          "output_type": "display_data",
          "data": {
            "image/png": "[encoded data removed]",
            "text/plain": [
              "<Figure size 432x288 with 1 Axes>"
            ]
          },
          "metadata": {
            "tags": []
          }
        }
      ]
    },
    {
      "cell_type": "code",
      "metadata": {
        "id": "-ZTvWPUTHlJq",
        "colab_type": "code",
        "colab": {
          "base_uri": "https://localhost:8080/",
          "height": 35
        },
        "outputId": "7efd57d4-6622-4422-ae3b-89a63933c4f5"
      },
      "source": [
        "# finding max value in a list and it's index.\n",
        "a = max(score_list) # finding max value in list\n",
        "b = score_list.index(a)+1 # index of max value.\n",
        "\n",
        "print(\"k = \",b,\" and maximum value is \", a)\n",
        "\n",
        "# adding result and label to lists\n",
        "labelList.append(\"KNN\")\n",
        "resultList.append(a)"
      ],
      "execution_count": 79,
      "outputs": [
        {
          "output_type": "stream",
          "text": [
            "k =  14  and maximum value is  0.9270864051902094\n"
          ],
          "name": "stdout"
        }
      ]
    },
    {
      "cell_type": "code",
      "metadata": {
        "id": "q-YKWfTbH9LX",
        "colab_type": "code",
        "colab": {
          "base_uri": "https://localhost:8080/",
          "height": 270
        },
        "outputId": "66dba38b-1caf-4e6c-dc86-86d8d845fe68"
      },
      "source": [
        "plt.plot(labelList,resultList)\n",
        "plt.show()"
      ],
      "execution_count": 80,
      "outputs": [
        {
          "output_type": "display_data",
          "data": {
            "image/png": "[encoded data removed]",
            "text/plain": [
              "<Figure size 432x288 with 1 Axes>"
            ]
          },
          "metadata": {
            "tags": []
          }
        }
      ]
    },
    {
      "cell_type": "code",
      "metadata": {
        "id": "ByqCOlF9IFVh",
        "colab_type": "code",
        "colab": {
          "base_uri": "https://localhost:8080/",
          "height": 270
        },
        "outputId": "053147c9-d755-4368-caf0-e8b88b23db6a"
      },
      "source": [
        "\n",
        "\n",
        "# First of all we combine 2 lists (labelList and resultList) by using zip method\n",
        "zipped = zip(labelList, resultList)\n",
        "zipped = list(zipped)\n",
        "df = pd.DataFrame(zipped, columns=['label','result'])\n",
        "new_index = (df['result'].sort_values(ascending=False)).index.values \n",
        "sorted_data = df.reindex(new_index)\n",
        "plt.plot(sorted_data.loc[:,\"label\"],sorted_data.loc[:,\"result\"])\n",
        "plt.show()\n"
      ],
      "execution_count": 81,
      "outputs": [
        {
          "output_type": "display_data",
          "data": {
            "image/png": "[encoded data removed]",
            "text/plain": [
              "<Figure size 432x288 with 1 Axes>"
            ]
          },
          "metadata": {
            "tags": []
          }
        }
      ]
    },
    {
      "cell_type": "code",
      "metadata": {
        "id": "upr8ZeN_IoJ4",
        "colab_type": "code",
        "colab": {}
      },
      "source": [
        ""
      ],
      "execution_count": 0,
      "outputs": []
    }
  ]
}